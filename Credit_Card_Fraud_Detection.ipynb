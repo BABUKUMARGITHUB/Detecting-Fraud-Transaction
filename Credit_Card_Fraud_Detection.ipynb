{
 "cells": [
  {
   "cell_type": "code",
   "execution_count": 1,
   "id": "490423b4",
   "metadata": {},
   "outputs": [],
   "source": [
    "# importing all necessary libraries\n",
    "import numpy as np\n",
    "import pandas as pd\n",
    "import seaborn as sns\n",
    "import matplotlib.pyplot as plt\n",
    "#%matplotib inline"
   ]
  },
  {
   "cell_type": "code",
   "execution_count": 2,
   "id": "8d71df54",
   "metadata": {},
   "outputs": [],
   "source": [
    "#import the dataset\n",
    "df = pd.read_csv('creditcard.csv')\n",
    "pd.set_option('display.max_columns', None)"
   ]
  },
  {
   "cell_type": "code",
   "execution_count": 3,
   "id": "24ce79c6",
   "metadata": {},
   "outputs": [
    {
     "data": {
      "text/html": [
       "<div>\n",
       "<style scoped>\n",
       "    .dataframe tbody tr th:only-of-type {\n",
       "        vertical-align: middle;\n",
       "    }\n",
       "\n",
       "    .dataframe tbody tr th {\n",
       "        vertical-align: top;\n",
       "    }\n",
       "\n",
       "    .dataframe thead th {\n",
       "        text-align: right;\n",
       "    }\n",
       "</style>\n",
       "<table border=\"1\" class=\"dataframe\">\n",
       "  <thead>\n",
       "    <tr style=\"text-align: right;\">\n",
       "      <th></th>\n",
       "      <th>Time</th>\n",
       "      <th>V1</th>\n",
       "      <th>V2</th>\n",
       "      <th>V3</th>\n",
       "      <th>V4</th>\n",
       "      <th>V5</th>\n",
       "      <th>V6</th>\n",
       "      <th>V7</th>\n",
       "      <th>V8</th>\n",
       "      <th>V9</th>\n",
       "      <th>V10</th>\n",
       "      <th>V11</th>\n",
       "      <th>V12</th>\n",
       "      <th>V13</th>\n",
       "      <th>V14</th>\n",
       "      <th>V15</th>\n",
       "      <th>V16</th>\n",
       "      <th>V17</th>\n",
       "      <th>V18</th>\n",
       "      <th>V19</th>\n",
       "      <th>V20</th>\n",
       "      <th>V21</th>\n",
       "      <th>V22</th>\n",
       "      <th>V23</th>\n",
       "      <th>V24</th>\n",
       "      <th>V25</th>\n",
       "      <th>V26</th>\n",
       "      <th>V27</th>\n",
       "      <th>V28</th>\n",
       "      <th>Amount</th>\n",
       "      <th>Class</th>\n",
       "    </tr>\n",
       "  </thead>\n",
       "  <tbody>\n",
       "    <tr>\n",
       "      <th>0</th>\n",
       "      <td>0.0</td>\n",
       "      <td>-1.359807</td>\n",
       "      <td>-0.072781</td>\n",
       "      <td>2.536347</td>\n",
       "      <td>1.378155</td>\n",
       "      <td>-0.338321</td>\n",
       "      <td>0.462388</td>\n",
       "      <td>0.239599</td>\n",
       "      <td>0.098698</td>\n",
       "      <td>0.363787</td>\n",
       "      <td>0.090794</td>\n",
       "      <td>-0.551600</td>\n",
       "      <td>-0.617801</td>\n",
       "      <td>-0.991390</td>\n",
       "      <td>-0.311169</td>\n",
       "      <td>1.468177</td>\n",
       "      <td>-0.470401</td>\n",
       "      <td>0.207971</td>\n",
       "      <td>0.025791</td>\n",
       "      <td>0.403993</td>\n",
       "      <td>0.251412</td>\n",
       "      <td>-0.018307</td>\n",
       "      <td>0.277838</td>\n",
       "      <td>-0.110474</td>\n",
       "      <td>0.066928</td>\n",
       "      <td>0.128539</td>\n",
       "      <td>-0.189115</td>\n",
       "      <td>0.133558</td>\n",
       "      <td>-0.021053</td>\n",
       "      <td>149.62</td>\n",
       "      <td>0</td>\n",
       "    </tr>\n",
       "    <tr>\n",
       "      <th>1</th>\n",
       "      <td>0.0</td>\n",
       "      <td>1.191857</td>\n",
       "      <td>0.266151</td>\n",
       "      <td>0.166480</td>\n",
       "      <td>0.448154</td>\n",
       "      <td>0.060018</td>\n",
       "      <td>-0.082361</td>\n",
       "      <td>-0.078803</td>\n",
       "      <td>0.085102</td>\n",
       "      <td>-0.255425</td>\n",
       "      <td>-0.166974</td>\n",
       "      <td>1.612727</td>\n",
       "      <td>1.065235</td>\n",
       "      <td>0.489095</td>\n",
       "      <td>-0.143772</td>\n",
       "      <td>0.635558</td>\n",
       "      <td>0.463917</td>\n",
       "      <td>-0.114805</td>\n",
       "      <td>-0.183361</td>\n",
       "      <td>-0.145783</td>\n",
       "      <td>-0.069083</td>\n",
       "      <td>-0.225775</td>\n",
       "      <td>-0.638672</td>\n",
       "      <td>0.101288</td>\n",
       "      <td>-0.339846</td>\n",
       "      <td>0.167170</td>\n",
       "      <td>0.125895</td>\n",
       "      <td>-0.008983</td>\n",
       "      <td>0.014724</td>\n",
       "      <td>2.69</td>\n",
       "      <td>0</td>\n",
       "    </tr>\n",
       "    <tr>\n",
       "      <th>2</th>\n",
       "      <td>1.0</td>\n",
       "      <td>-1.358354</td>\n",
       "      <td>-1.340163</td>\n",
       "      <td>1.773209</td>\n",
       "      <td>0.379780</td>\n",
       "      <td>-0.503198</td>\n",
       "      <td>1.800499</td>\n",
       "      <td>0.791461</td>\n",
       "      <td>0.247676</td>\n",
       "      <td>-1.514654</td>\n",
       "      <td>0.207643</td>\n",
       "      <td>0.624501</td>\n",
       "      <td>0.066084</td>\n",
       "      <td>0.717293</td>\n",
       "      <td>-0.165946</td>\n",
       "      <td>2.345865</td>\n",
       "      <td>-2.890083</td>\n",
       "      <td>1.109969</td>\n",
       "      <td>-0.121359</td>\n",
       "      <td>-2.261857</td>\n",
       "      <td>0.524980</td>\n",
       "      <td>0.247998</td>\n",
       "      <td>0.771679</td>\n",
       "      <td>0.909412</td>\n",
       "      <td>-0.689281</td>\n",
       "      <td>-0.327642</td>\n",
       "      <td>-0.139097</td>\n",
       "      <td>-0.055353</td>\n",
       "      <td>-0.059752</td>\n",
       "      <td>378.66</td>\n",
       "      <td>0</td>\n",
       "    </tr>\n",
       "    <tr>\n",
       "      <th>3</th>\n",
       "      <td>1.0</td>\n",
       "      <td>-0.966272</td>\n",
       "      <td>-0.185226</td>\n",
       "      <td>1.792993</td>\n",
       "      <td>-0.863291</td>\n",
       "      <td>-0.010309</td>\n",
       "      <td>1.247203</td>\n",
       "      <td>0.237609</td>\n",
       "      <td>0.377436</td>\n",
       "      <td>-1.387024</td>\n",
       "      <td>-0.054952</td>\n",
       "      <td>-0.226487</td>\n",
       "      <td>0.178228</td>\n",
       "      <td>0.507757</td>\n",
       "      <td>-0.287924</td>\n",
       "      <td>-0.631418</td>\n",
       "      <td>-1.059647</td>\n",
       "      <td>-0.684093</td>\n",
       "      <td>1.965775</td>\n",
       "      <td>-1.232622</td>\n",
       "      <td>-0.208038</td>\n",
       "      <td>-0.108300</td>\n",
       "      <td>0.005274</td>\n",
       "      <td>-0.190321</td>\n",
       "      <td>-1.175575</td>\n",
       "      <td>0.647376</td>\n",
       "      <td>-0.221929</td>\n",
       "      <td>0.062723</td>\n",
       "      <td>0.061458</td>\n",
       "      <td>123.50</td>\n",
       "      <td>0</td>\n",
       "    </tr>\n",
       "    <tr>\n",
       "      <th>4</th>\n",
       "      <td>2.0</td>\n",
       "      <td>-1.158233</td>\n",
       "      <td>0.877737</td>\n",
       "      <td>1.548718</td>\n",
       "      <td>0.403034</td>\n",
       "      <td>-0.407193</td>\n",
       "      <td>0.095921</td>\n",
       "      <td>0.592941</td>\n",
       "      <td>-0.270533</td>\n",
       "      <td>0.817739</td>\n",
       "      <td>0.753074</td>\n",
       "      <td>-0.822843</td>\n",
       "      <td>0.538196</td>\n",
       "      <td>1.345852</td>\n",
       "      <td>-1.119670</td>\n",
       "      <td>0.175121</td>\n",
       "      <td>-0.451449</td>\n",
       "      <td>-0.237033</td>\n",
       "      <td>-0.038195</td>\n",
       "      <td>0.803487</td>\n",
       "      <td>0.408542</td>\n",
       "      <td>-0.009431</td>\n",
       "      <td>0.798278</td>\n",
       "      <td>-0.137458</td>\n",
       "      <td>0.141267</td>\n",
       "      <td>-0.206010</td>\n",
       "      <td>0.502292</td>\n",
       "      <td>0.219422</td>\n",
       "      <td>0.215153</td>\n",
       "      <td>69.99</td>\n",
       "      <td>0</td>\n",
       "    </tr>\n",
       "  </tbody>\n",
       "</table>\n",
       "</div>"
      ],
      "text/plain": [
       "   Time        V1        V2        V3        V4        V5        V6        V7  \\\n",
       "0   0.0 -1.359807 -0.072781  2.536347  1.378155 -0.338321  0.462388  0.239599   \n",
       "1   0.0  1.191857  0.266151  0.166480  0.448154  0.060018 -0.082361 -0.078803   \n",
       "2   1.0 -1.358354 -1.340163  1.773209  0.379780 -0.503198  1.800499  0.791461   \n",
       "3   1.0 -0.966272 -0.185226  1.792993 -0.863291 -0.010309  1.247203  0.237609   \n",
       "4   2.0 -1.158233  0.877737  1.548718  0.403034 -0.407193  0.095921  0.592941   \n",
       "\n",
       "         V8        V9       V10       V11       V12       V13       V14  \\\n",
       "0  0.098698  0.363787  0.090794 -0.551600 -0.617801 -0.991390 -0.311169   \n",
       "1  0.085102 -0.255425 -0.166974  1.612727  1.065235  0.489095 -0.143772   \n",
       "2  0.247676 -1.514654  0.207643  0.624501  0.066084  0.717293 -0.165946   \n",
       "3  0.377436 -1.387024 -0.054952 -0.226487  0.178228  0.507757 -0.287924   \n",
       "4 -0.270533  0.817739  0.753074 -0.822843  0.538196  1.345852 -1.119670   \n",
       "\n",
       "        V15       V16       V17       V18       V19       V20       V21  \\\n",
       "0  1.468177 -0.470401  0.207971  0.025791  0.403993  0.251412 -0.018307   \n",
       "1  0.635558  0.463917 -0.114805 -0.183361 -0.145783 -0.069083 -0.225775   \n",
       "2  2.345865 -2.890083  1.109969 -0.121359 -2.261857  0.524980  0.247998   \n",
       "3 -0.631418 -1.059647 -0.684093  1.965775 -1.232622 -0.208038 -0.108300   \n",
       "4  0.175121 -0.451449 -0.237033 -0.038195  0.803487  0.408542 -0.009431   \n",
       "\n",
       "        V22       V23       V24       V25       V26       V27       V28  \\\n",
       "0  0.277838 -0.110474  0.066928  0.128539 -0.189115  0.133558 -0.021053   \n",
       "1 -0.638672  0.101288 -0.339846  0.167170  0.125895 -0.008983  0.014724   \n",
       "2  0.771679  0.909412 -0.689281 -0.327642 -0.139097 -0.055353 -0.059752   \n",
       "3  0.005274 -0.190321 -1.175575  0.647376 -0.221929  0.062723  0.061458   \n",
       "4  0.798278 -0.137458  0.141267 -0.206010  0.502292  0.219422  0.215153   \n",
       "\n",
       "   Amount  Class  \n",
       "0  149.62      0  \n",
       "1    2.69      0  \n",
       "2  378.66      0  \n",
       "3  123.50      0  \n",
       "4   69.99      0  "
      ]
     },
     "execution_count": 3,
     "metadata": {},
     "output_type": "execute_result"
    }
   ],
   "source": [
    "# first 5 rows of the dataset\n",
    "df.head()"
   ]
  },
  {
   "cell_type": "code",
   "execution_count": 4,
   "id": "2a430c0b",
   "metadata": {},
   "outputs": [
    {
     "name": "stdout",
     "output_type": "stream",
     "text": [
      "<class 'pandas.core.frame.DataFrame'>\n",
      "RangeIndex: 284807 entries, 0 to 284806\n",
      "Data columns (total 31 columns):\n",
      " #   Column  Non-Null Count   Dtype  \n",
      "---  ------  --------------   -----  \n",
      " 0   Time    284807 non-null  float64\n",
      " 1   V1      284807 non-null  float64\n",
      " 2   V2      284807 non-null  float64\n",
      " 3   V3      284807 non-null  float64\n",
      " 4   V4      284807 non-null  float64\n",
      " 5   V5      284807 non-null  float64\n",
      " 6   V6      284807 non-null  float64\n",
      " 7   V7      284807 non-null  float64\n",
      " 8   V8      284807 non-null  float64\n",
      " 9   V9      284807 non-null  float64\n",
      " 10  V10     284807 non-null  float64\n",
      " 11  V11     284807 non-null  float64\n",
      " 12  V12     284807 non-null  float64\n",
      " 13  V13     284807 non-null  float64\n",
      " 14  V14     284807 non-null  float64\n",
      " 15  V15     284807 non-null  float64\n",
      " 16  V16     284807 non-null  float64\n",
      " 17  V17     284807 non-null  float64\n",
      " 18  V18     284807 non-null  float64\n",
      " 19  V19     284807 non-null  float64\n",
      " 20  V20     284807 non-null  float64\n",
      " 21  V21     284807 non-null  float64\n",
      " 22  V22     284807 non-null  float64\n",
      " 23  V23     284807 non-null  float64\n",
      " 24  V24     284807 non-null  float64\n",
      " 25  V25     284807 non-null  float64\n",
      " 26  V26     284807 non-null  float64\n",
      " 27  V27     284807 non-null  float64\n",
      " 28  V28     284807 non-null  float64\n",
      " 29  Amount  284807 non-null  float64\n",
      " 30  Class   284807 non-null  int64  \n",
      "dtypes: float64(30), int64(1)\n",
      "memory usage: 67.4 MB\n"
     ]
    }
   ],
   "source": [
    "# each feature datatype\n",
    "df.info()"
   ]
  },
  {
   "cell_type": "markdown",
   "id": "dd1b7a6d",
   "metadata": {},
   "source": [
    "- For feature Idetification all are float values and class is integer"
   ]
  },
  {
   "cell_type": "code",
   "execution_count": 5,
   "id": "10b64780",
   "metadata": {},
   "outputs": [
    {
     "data": {
      "text/plain": [
       "Time      0\n",
       "V1        0\n",
       "V2        0\n",
       "V3        0\n",
       "V4        0\n",
       "V5        0\n",
       "V6        0\n",
       "V7        0\n",
       "V8        0\n",
       "V9        0\n",
       "V10       0\n",
       "V11       0\n",
       "V12       0\n",
       "V13       0\n",
       "V14       0\n",
       "V15       0\n",
       "V16       0\n",
       "V17       0\n",
       "V18       0\n",
       "V19       0\n",
       "V20       0\n",
       "V21       0\n",
       "V22       0\n",
       "V23       0\n",
       "V24       0\n",
       "V25       0\n",
       "V26       0\n",
       "V27       0\n",
       "V28       0\n",
       "Amount    0\n",
       "Class     0\n",
       "dtype: int64"
      ]
     },
     "execution_count": 5,
     "metadata": {},
     "output_type": "execute_result"
    }
   ],
   "source": [
    "# find the null values in each feature\n",
    "df.isnull().sum()"
   ]
  },
  {
   "cell_type": "markdown",
   "id": "e99ecc2d",
   "metadata": {},
   "source": [
    "- There are no null values"
   ]
  },
  {
   "cell_type": "code",
   "execution_count": 6,
   "id": "712bfa24",
   "metadata": {},
   "outputs": [
    {
     "data": {
      "text/html": [
       "<div>\n",
       "<style scoped>\n",
       "    .dataframe tbody tr th:only-of-type {\n",
       "        vertical-align: middle;\n",
       "    }\n",
       "\n",
       "    .dataframe tbody tr th {\n",
       "        vertical-align: top;\n",
       "    }\n",
       "\n",
       "    .dataframe thead th {\n",
       "        text-align: right;\n",
       "    }\n",
       "</style>\n",
       "<table border=\"1\" class=\"dataframe\">\n",
       "  <thead>\n",
       "    <tr style=\"text-align: right;\">\n",
       "      <th></th>\n",
       "      <th>Time</th>\n",
       "      <th>V1</th>\n",
       "      <th>V2</th>\n",
       "      <th>V3</th>\n",
       "      <th>V4</th>\n",
       "      <th>V5</th>\n",
       "      <th>V6</th>\n",
       "      <th>V7</th>\n",
       "      <th>V8</th>\n",
       "      <th>V9</th>\n",
       "      <th>V10</th>\n",
       "      <th>V11</th>\n",
       "      <th>V12</th>\n",
       "      <th>V13</th>\n",
       "      <th>V14</th>\n",
       "      <th>V15</th>\n",
       "      <th>V16</th>\n",
       "      <th>V17</th>\n",
       "      <th>V18</th>\n",
       "      <th>V19</th>\n",
       "      <th>V20</th>\n",
       "      <th>V21</th>\n",
       "      <th>V22</th>\n",
       "      <th>V23</th>\n",
       "      <th>V24</th>\n",
       "      <th>V25</th>\n",
       "      <th>V26</th>\n",
       "      <th>V27</th>\n",
       "      <th>V28</th>\n",
       "      <th>Amount</th>\n",
       "      <th>Class</th>\n",
       "    </tr>\n",
       "  </thead>\n",
       "  <tbody>\n",
       "    <tr>\n",
       "      <th>count</th>\n",
       "      <td>284807.000000</td>\n",
       "      <td>2.848070e+05</td>\n",
       "      <td>2.848070e+05</td>\n",
       "      <td>2.848070e+05</td>\n",
       "      <td>2.848070e+05</td>\n",
       "      <td>2.848070e+05</td>\n",
       "      <td>2.848070e+05</td>\n",
       "      <td>2.848070e+05</td>\n",
       "      <td>2.848070e+05</td>\n",
       "      <td>2.848070e+05</td>\n",
       "      <td>2.848070e+05</td>\n",
       "      <td>2.848070e+05</td>\n",
       "      <td>2.848070e+05</td>\n",
       "      <td>2.848070e+05</td>\n",
       "      <td>2.848070e+05</td>\n",
       "      <td>2.848070e+05</td>\n",
       "      <td>2.848070e+05</td>\n",
       "      <td>2.848070e+05</td>\n",
       "      <td>2.848070e+05</td>\n",
       "      <td>2.848070e+05</td>\n",
       "      <td>2.848070e+05</td>\n",
       "      <td>2.848070e+05</td>\n",
       "      <td>2.848070e+05</td>\n",
       "      <td>2.848070e+05</td>\n",
       "      <td>2.848070e+05</td>\n",
       "      <td>2.848070e+05</td>\n",
       "      <td>2.848070e+05</td>\n",
       "      <td>2.848070e+05</td>\n",
       "      <td>2.848070e+05</td>\n",
       "      <td>284807.000000</td>\n",
       "      <td>284807.000000</td>\n",
       "    </tr>\n",
       "    <tr>\n",
       "      <th>mean</th>\n",
       "      <td>94813.859575</td>\n",
       "      <td>3.918649e-15</td>\n",
       "      <td>5.682686e-16</td>\n",
       "      <td>-8.761736e-15</td>\n",
       "      <td>2.811118e-15</td>\n",
       "      <td>-1.552103e-15</td>\n",
       "      <td>2.040130e-15</td>\n",
       "      <td>-1.698953e-15</td>\n",
       "      <td>-1.893285e-16</td>\n",
       "      <td>-3.147640e-15</td>\n",
       "      <td>1.772925e-15</td>\n",
       "      <td>9.289524e-16</td>\n",
       "      <td>-1.803266e-15</td>\n",
       "      <td>1.674888e-15</td>\n",
       "      <td>1.475621e-15</td>\n",
       "      <td>3.501098e-15</td>\n",
       "      <td>1.392460e-15</td>\n",
       "      <td>-7.466538e-16</td>\n",
       "      <td>4.258754e-16</td>\n",
       "      <td>9.019919e-16</td>\n",
       "      <td>5.126845e-16</td>\n",
       "      <td>1.473120e-16</td>\n",
       "      <td>8.042109e-16</td>\n",
       "      <td>5.282512e-16</td>\n",
       "      <td>4.456271e-15</td>\n",
       "      <td>1.426896e-15</td>\n",
       "      <td>1.701640e-15</td>\n",
       "      <td>-3.662252e-16</td>\n",
       "      <td>-1.217809e-16</td>\n",
       "      <td>88.349619</td>\n",
       "      <td>0.001727</td>\n",
       "    </tr>\n",
       "    <tr>\n",
       "      <th>std</th>\n",
       "      <td>47488.145955</td>\n",
       "      <td>1.958696e+00</td>\n",
       "      <td>1.651309e+00</td>\n",
       "      <td>1.516255e+00</td>\n",
       "      <td>1.415869e+00</td>\n",
       "      <td>1.380247e+00</td>\n",
       "      <td>1.332271e+00</td>\n",
       "      <td>1.237094e+00</td>\n",
       "      <td>1.194353e+00</td>\n",
       "      <td>1.098632e+00</td>\n",
       "      <td>1.088850e+00</td>\n",
       "      <td>1.020713e+00</td>\n",
       "      <td>9.992014e-01</td>\n",
       "      <td>9.952742e-01</td>\n",
       "      <td>9.585956e-01</td>\n",
       "      <td>9.153160e-01</td>\n",
       "      <td>8.762529e-01</td>\n",
       "      <td>8.493371e-01</td>\n",
       "      <td>8.381762e-01</td>\n",
       "      <td>8.140405e-01</td>\n",
       "      <td>7.709250e-01</td>\n",
       "      <td>7.345240e-01</td>\n",
       "      <td>7.257016e-01</td>\n",
       "      <td>6.244603e-01</td>\n",
       "      <td>6.056471e-01</td>\n",
       "      <td>5.212781e-01</td>\n",
       "      <td>4.822270e-01</td>\n",
       "      <td>4.036325e-01</td>\n",
       "      <td>3.300833e-01</td>\n",
       "      <td>250.120109</td>\n",
       "      <td>0.041527</td>\n",
       "    </tr>\n",
       "    <tr>\n",
       "      <th>min</th>\n",
       "      <td>0.000000</td>\n",
       "      <td>-5.640751e+01</td>\n",
       "      <td>-7.271573e+01</td>\n",
       "      <td>-4.832559e+01</td>\n",
       "      <td>-5.683171e+00</td>\n",
       "      <td>-1.137433e+02</td>\n",
       "      <td>-2.616051e+01</td>\n",
       "      <td>-4.355724e+01</td>\n",
       "      <td>-7.321672e+01</td>\n",
       "      <td>-1.343407e+01</td>\n",
       "      <td>-2.458826e+01</td>\n",
       "      <td>-4.797473e+00</td>\n",
       "      <td>-1.868371e+01</td>\n",
       "      <td>-5.791881e+00</td>\n",
       "      <td>-1.921433e+01</td>\n",
       "      <td>-4.498945e+00</td>\n",
       "      <td>-1.412985e+01</td>\n",
       "      <td>-2.516280e+01</td>\n",
       "      <td>-9.498746e+00</td>\n",
       "      <td>-7.213527e+00</td>\n",
       "      <td>-5.449772e+01</td>\n",
       "      <td>-3.483038e+01</td>\n",
       "      <td>-1.093314e+01</td>\n",
       "      <td>-4.480774e+01</td>\n",
       "      <td>-2.836627e+00</td>\n",
       "      <td>-1.029540e+01</td>\n",
       "      <td>-2.604551e+00</td>\n",
       "      <td>-2.256568e+01</td>\n",
       "      <td>-1.543008e+01</td>\n",
       "      <td>0.000000</td>\n",
       "      <td>0.000000</td>\n",
       "    </tr>\n",
       "    <tr>\n",
       "      <th>25%</th>\n",
       "      <td>54201.500000</td>\n",
       "      <td>-9.203734e-01</td>\n",
       "      <td>-5.985499e-01</td>\n",
       "      <td>-8.903648e-01</td>\n",
       "      <td>-8.486401e-01</td>\n",
       "      <td>-6.915971e-01</td>\n",
       "      <td>-7.682956e-01</td>\n",
       "      <td>-5.540759e-01</td>\n",
       "      <td>-2.086297e-01</td>\n",
       "      <td>-6.430976e-01</td>\n",
       "      <td>-5.354257e-01</td>\n",
       "      <td>-7.624942e-01</td>\n",
       "      <td>-4.055715e-01</td>\n",
       "      <td>-6.485393e-01</td>\n",
       "      <td>-4.255740e-01</td>\n",
       "      <td>-5.828843e-01</td>\n",
       "      <td>-4.680368e-01</td>\n",
       "      <td>-4.837483e-01</td>\n",
       "      <td>-4.988498e-01</td>\n",
       "      <td>-4.562989e-01</td>\n",
       "      <td>-2.117214e-01</td>\n",
       "      <td>-2.283949e-01</td>\n",
       "      <td>-5.423504e-01</td>\n",
       "      <td>-1.618463e-01</td>\n",
       "      <td>-3.545861e-01</td>\n",
       "      <td>-3.171451e-01</td>\n",
       "      <td>-3.269839e-01</td>\n",
       "      <td>-7.083953e-02</td>\n",
       "      <td>-5.295979e-02</td>\n",
       "      <td>5.600000</td>\n",
       "      <td>0.000000</td>\n",
       "    </tr>\n",
       "    <tr>\n",
       "      <th>50%</th>\n",
       "      <td>84692.000000</td>\n",
       "      <td>1.810880e-02</td>\n",
       "      <td>6.548556e-02</td>\n",
       "      <td>1.798463e-01</td>\n",
       "      <td>-1.984653e-02</td>\n",
       "      <td>-5.433583e-02</td>\n",
       "      <td>-2.741871e-01</td>\n",
       "      <td>4.010308e-02</td>\n",
       "      <td>2.235804e-02</td>\n",
       "      <td>-5.142873e-02</td>\n",
       "      <td>-9.291738e-02</td>\n",
       "      <td>-3.275735e-02</td>\n",
       "      <td>1.400326e-01</td>\n",
       "      <td>-1.356806e-02</td>\n",
       "      <td>5.060132e-02</td>\n",
       "      <td>4.807155e-02</td>\n",
       "      <td>6.641332e-02</td>\n",
       "      <td>-6.567575e-02</td>\n",
       "      <td>-3.636312e-03</td>\n",
       "      <td>3.734823e-03</td>\n",
       "      <td>-6.248109e-02</td>\n",
       "      <td>-2.945017e-02</td>\n",
       "      <td>6.781943e-03</td>\n",
       "      <td>-1.119293e-02</td>\n",
       "      <td>4.097606e-02</td>\n",
       "      <td>1.659350e-02</td>\n",
       "      <td>-5.213911e-02</td>\n",
       "      <td>1.342146e-03</td>\n",
       "      <td>1.124383e-02</td>\n",
       "      <td>22.000000</td>\n",
       "      <td>0.000000</td>\n",
       "    </tr>\n",
       "    <tr>\n",
       "      <th>75%</th>\n",
       "      <td>139320.500000</td>\n",
       "      <td>1.315642e+00</td>\n",
       "      <td>8.037239e-01</td>\n",
       "      <td>1.027196e+00</td>\n",
       "      <td>7.433413e-01</td>\n",
       "      <td>6.119264e-01</td>\n",
       "      <td>3.985649e-01</td>\n",
       "      <td>5.704361e-01</td>\n",
       "      <td>3.273459e-01</td>\n",
       "      <td>5.971390e-01</td>\n",
       "      <td>4.539234e-01</td>\n",
       "      <td>7.395934e-01</td>\n",
       "      <td>6.182380e-01</td>\n",
       "      <td>6.625050e-01</td>\n",
       "      <td>4.931498e-01</td>\n",
       "      <td>6.488208e-01</td>\n",
       "      <td>5.232963e-01</td>\n",
       "      <td>3.996750e-01</td>\n",
       "      <td>5.008067e-01</td>\n",
       "      <td>4.589494e-01</td>\n",
       "      <td>1.330408e-01</td>\n",
       "      <td>1.863772e-01</td>\n",
       "      <td>5.285536e-01</td>\n",
       "      <td>1.476421e-01</td>\n",
       "      <td>4.395266e-01</td>\n",
       "      <td>3.507156e-01</td>\n",
       "      <td>2.409522e-01</td>\n",
       "      <td>9.104512e-02</td>\n",
       "      <td>7.827995e-02</td>\n",
       "      <td>77.165000</td>\n",
       "      <td>0.000000</td>\n",
       "    </tr>\n",
       "    <tr>\n",
       "      <th>max</th>\n",
       "      <td>172792.000000</td>\n",
       "      <td>2.454930e+00</td>\n",
       "      <td>2.205773e+01</td>\n",
       "      <td>9.382558e+00</td>\n",
       "      <td>1.687534e+01</td>\n",
       "      <td>3.480167e+01</td>\n",
       "      <td>7.330163e+01</td>\n",
       "      <td>1.205895e+02</td>\n",
       "      <td>2.000721e+01</td>\n",
       "      <td>1.559499e+01</td>\n",
       "      <td>2.374514e+01</td>\n",
       "      <td>1.201891e+01</td>\n",
       "      <td>7.848392e+00</td>\n",
       "      <td>7.126883e+00</td>\n",
       "      <td>1.052677e+01</td>\n",
       "      <td>8.877742e+00</td>\n",
       "      <td>1.731511e+01</td>\n",
       "      <td>9.253526e+00</td>\n",
       "      <td>5.041069e+00</td>\n",
       "      <td>5.591971e+00</td>\n",
       "      <td>3.942090e+01</td>\n",
       "      <td>2.720284e+01</td>\n",
       "      <td>1.050309e+01</td>\n",
       "      <td>2.252841e+01</td>\n",
       "      <td>4.584549e+00</td>\n",
       "      <td>7.519589e+00</td>\n",
       "      <td>3.517346e+00</td>\n",
       "      <td>3.161220e+01</td>\n",
       "      <td>3.384781e+01</td>\n",
       "      <td>25691.160000</td>\n",
       "      <td>1.000000</td>\n",
       "    </tr>\n",
       "  </tbody>\n",
       "</table>\n",
       "</div>"
      ],
      "text/plain": [
       "                Time            V1            V2            V3            V4  \\\n",
       "count  284807.000000  2.848070e+05  2.848070e+05  2.848070e+05  2.848070e+05   \n",
       "mean    94813.859575  3.918649e-15  5.682686e-16 -8.761736e-15  2.811118e-15   \n",
       "std     47488.145955  1.958696e+00  1.651309e+00  1.516255e+00  1.415869e+00   \n",
       "min         0.000000 -5.640751e+01 -7.271573e+01 -4.832559e+01 -5.683171e+00   \n",
       "25%     54201.500000 -9.203734e-01 -5.985499e-01 -8.903648e-01 -8.486401e-01   \n",
       "50%     84692.000000  1.810880e-02  6.548556e-02  1.798463e-01 -1.984653e-02   \n",
       "75%    139320.500000  1.315642e+00  8.037239e-01  1.027196e+00  7.433413e-01   \n",
       "max    172792.000000  2.454930e+00  2.205773e+01  9.382558e+00  1.687534e+01   \n",
       "\n",
       "                 V5            V6            V7            V8            V9  \\\n",
       "count  2.848070e+05  2.848070e+05  2.848070e+05  2.848070e+05  2.848070e+05   \n",
       "mean  -1.552103e-15  2.040130e-15 -1.698953e-15 -1.893285e-16 -3.147640e-15   \n",
       "std    1.380247e+00  1.332271e+00  1.237094e+00  1.194353e+00  1.098632e+00   \n",
       "min   -1.137433e+02 -2.616051e+01 -4.355724e+01 -7.321672e+01 -1.343407e+01   \n",
       "25%   -6.915971e-01 -7.682956e-01 -5.540759e-01 -2.086297e-01 -6.430976e-01   \n",
       "50%   -5.433583e-02 -2.741871e-01  4.010308e-02  2.235804e-02 -5.142873e-02   \n",
       "75%    6.119264e-01  3.985649e-01  5.704361e-01  3.273459e-01  5.971390e-01   \n",
       "max    3.480167e+01  7.330163e+01  1.205895e+02  2.000721e+01  1.559499e+01   \n",
       "\n",
       "                V10           V11           V12           V13           V14  \\\n",
       "count  2.848070e+05  2.848070e+05  2.848070e+05  2.848070e+05  2.848070e+05   \n",
       "mean   1.772925e-15  9.289524e-16 -1.803266e-15  1.674888e-15  1.475621e-15   \n",
       "std    1.088850e+00  1.020713e+00  9.992014e-01  9.952742e-01  9.585956e-01   \n",
       "min   -2.458826e+01 -4.797473e+00 -1.868371e+01 -5.791881e+00 -1.921433e+01   \n",
       "25%   -5.354257e-01 -7.624942e-01 -4.055715e-01 -6.485393e-01 -4.255740e-01   \n",
       "50%   -9.291738e-02 -3.275735e-02  1.400326e-01 -1.356806e-02  5.060132e-02   \n",
       "75%    4.539234e-01  7.395934e-01  6.182380e-01  6.625050e-01  4.931498e-01   \n",
       "max    2.374514e+01  1.201891e+01  7.848392e+00  7.126883e+00  1.052677e+01   \n",
       "\n",
       "                V15           V16           V17           V18           V19  \\\n",
       "count  2.848070e+05  2.848070e+05  2.848070e+05  2.848070e+05  2.848070e+05   \n",
       "mean   3.501098e-15  1.392460e-15 -7.466538e-16  4.258754e-16  9.019919e-16   \n",
       "std    9.153160e-01  8.762529e-01  8.493371e-01  8.381762e-01  8.140405e-01   \n",
       "min   -4.498945e+00 -1.412985e+01 -2.516280e+01 -9.498746e+00 -7.213527e+00   \n",
       "25%   -5.828843e-01 -4.680368e-01 -4.837483e-01 -4.988498e-01 -4.562989e-01   \n",
       "50%    4.807155e-02  6.641332e-02 -6.567575e-02 -3.636312e-03  3.734823e-03   \n",
       "75%    6.488208e-01  5.232963e-01  3.996750e-01  5.008067e-01  4.589494e-01   \n",
       "max    8.877742e+00  1.731511e+01  9.253526e+00  5.041069e+00  5.591971e+00   \n",
       "\n",
       "                V20           V21           V22           V23           V24  \\\n",
       "count  2.848070e+05  2.848070e+05  2.848070e+05  2.848070e+05  2.848070e+05   \n",
       "mean   5.126845e-16  1.473120e-16  8.042109e-16  5.282512e-16  4.456271e-15   \n",
       "std    7.709250e-01  7.345240e-01  7.257016e-01  6.244603e-01  6.056471e-01   \n",
       "min   -5.449772e+01 -3.483038e+01 -1.093314e+01 -4.480774e+01 -2.836627e+00   \n",
       "25%   -2.117214e-01 -2.283949e-01 -5.423504e-01 -1.618463e-01 -3.545861e-01   \n",
       "50%   -6.248109e-02 -2.945017e-02  6.781943e-03 -1.119293e-02  4.097606e-02   \n",
       "75%    1.330408e-01  1.863772e-01  5.285536e-01  1.476421e-01  4.395266e-01   \n",
       "max    3.942090e+01  2.720284e+01  1.050309e+01  2.252841e+01  4.584549e+00   \n",
       "\n",
       "                V25           V26           V27           V28         Amount  \\\n",
       "count  2.848070e+05  2.848070e+05  2.848070e+05  2.848070e+05  284807.000000   \n",
       "mean   1.426896e-15  1.701640e-15 -3.662252e-16 -1.217809e-16      88.349619   \n",
       "std    5.212781e-01  4.822270e-01  4.036325e-01  3.300833e-01     250.120109   \n",
       "min   -1.029540e+01 -2.604551e+00 -2.256568e+01 -1.543008e+01       0.000000   \n",
       "25%   -3.171451e-01 -3.269839e-01 -7.083953e-02 -5.295979e-02       5.600000   \n",
       "50%    1.659350e-02 -5.213911e-02  1.342146e-03  1.124383e-02      22.000000   \n",
       "75%    3.507156e-01  2.409522e-01  9.104512e-02  7.827995e-02      77.165000   \n",
       "max    7.519589e+00  3.517346e+00  3.161220e+01  3.384781e+01   25691.160000   \n",
       "\n",
       "               Class  \n",
       "count  284807.000000  \n",
       "mean        0.001727  \n",
       "std         0.041527  \n",
       "min         0.000000  \n",
       "25%         0.000000  \n",
       "50%         0.000000  \n",
       "75%         0.000000  \n",
       "max         1.000000  "
      ]
     },
     "execution_count": 6,
     "metadata": {},
     "output_type": "execute_result"
    }
   ],
   "source": [
    "# description about the dataset\n",
    "df.describe()"
   ]
  },
  {
   "cell_type": "code",
   "execution_count": 7,
   "id": "b01d8aee",
   "metadata": {},
   "outputs": [
    {
     "data": {
      "text/plain": [
       "['Class']"
      ]
     },
     "execution_count": 7,
     "metadata": {},
     "output_type": "execute_result"
    }
   ],
   "source": [
    "# finding the discrete_features\n",
    "discrete_features = [feature for feature in df.columns if len(df[feature].unique())<25]\n",
    "discrete_features"
   ]
  },
  {
   "cell_type": "code",
   "execution_count": 8,
   "id": "7556410c",
   "metadata": {},
   "outputs": [
    {
     "data": {
      "text/plain": [
       "0    284315\n",
       "1       492\n",
       "Name: Class, dtype: int64"
      ]
     },
     "execution_count": 8,
     "metadata": {},
     "output_type": "execute_result"
    }
   ],
   "source": [
    "# count the values in dependent feature\n",
    "df['Class'].value_counts()"
   ]
  },
  {
   "cell_type": "code",
   "execution_count": 9,
   "id": "aa339852",
   "metadata": {},
   "outputs": [
    {
     "data": {
      "text/plain": [
       "<AxesSubplot:>"
      ]
     },
     "execution_count": 9,
     "metadata": {},
     "output_type": "execute_result"
    },
    {
     "data": {
      "image/png": "[encoded data removed]",
      "text/plain": [
       "<Figure size 432x288 with 1 Axes>"
      ]
     },
     "metadata": {
      "needs_background": "light"
     },
     "output_type": "display_data"
    }
   ],
   "source": [
    "# bar plot for the dependent feature\n",
    "df['Class'].value_counts().plot(kind='bar')"
   ]
  },
  {
   "cell_type": "code",
   "execution_count": 10,
   "id": "21efcd98",
   "metadata": {},
   "outputs": [
    {
     "data": {
      "text/plain": [
       "['Time',\n",
       " 'V1',\n",
       " 'V2',\n",
       " 'V3',\n",
       " 'V4',\n",
       " 'V5',\n",
       " 'V6',\n",
       " 'V7',\n",
       " 'V8',\n",
       " 'V9',\n",
       " 'V10',\n",
       " 'V11',\n",
       " 'V12',\n",
       " 'V13',\n",
       " 'V14',\n",
       " 'V15',\n",
       " 'V16',\n",
       " 'V17',\n",
       " 'V18',\n",
       " 'V19',\n",
       " 'V20',\n",
       " 'V21',\n",
       " 'V22',\n",
       " 'V23',\n",
       " 'V24',\n",
       " 'V25',\n",
       " 'V26',\n",
       " 'V27',\n",
       " 'V28',\n",
       " 'Amount']"
      ]
     },
     "execution_count": 10,
     "metadata": {},
     "output_type": "execute_result"
    }
   ],
   "source": [
    "# finding the continuous_features\n",
    "continuous_feature = [feature for feature in df.columns if len(df[feature].unique())>25]\n",
    "continuous_feature"
   ]
  },
  {
   "cell_type": "code",
   "execution_count": 11,
   "id": "c4a0f0cb",
   "metadata": {},
   "outputs": [
    {
     "data": {
      "image/png": "[encoded data removed]",
      "text/plain": [
       "<Figure size 432x288 with 1 Axes>"
      ]
     },
     "metadata": {
      "needs_background": "light"
     },
     "output_type": "display_data"
    },
    {
     "data": {
      "image/png": "[encoded data removed]",
      "text/plain": [
       "<Figure size 432x288 with 1 Axes>"
      ]
     },
     "metadata": {
      "needs_background": "light"
     },
     "output_type": "display_data"
    },
    {
     "data": {
      "image/png": "[encoded data removed]",
      "text/plain": [
       "<Figure size 432x288 with 1 Axes>"
      ]
     },
     "metadata": {
      "needs_background": "light"
     },
     "output_type": "display_data"
    },
    {
     "data": {
      "image/png": "[encoded data removed]",
      "text/plain": [
       "<Figure size 432x288 with 1 Axes>"
      ]
     },
     "metadata": {
      "needs_background": "light"
     },
     "output_type": "display_data"
    },
    {
     "data": {
      "image/png": "[encoded data removed]",
      "text/plain": [
       "<Figure size 432x288 with 1 Axes>"
      ]
     },
     "metadata": {
      "needs_background": "light"
     },
     "output_type": "display_data"
    },
    {
     "data": {
      "image/png": "[encoded data removed]",
      "text/plain": [
       "<Figure size 432x288 with 1 Axes>"
      ]
     },
     "metadata": {
      "needs_background": "light"
     },
     "output_type": "display_data"
    },
    {
     "data": {
      "image/png": "[encoded data removed]",
      "text/plain": [
       "<Figure size 432x288 with 1 Axes>"
      ]
     },
     "metadata": {
      "needs_background": "light"
     },
     "output_type": "display_data"
    },
    {
     "data": {
      "image/png": "[encoded data removed]",
      "text/plain": [
       "<Figure size 432x288 with 1 Axes>"
      ]
     },
     "metadata": {
      "needs_background": "light"
     },
     "output_type": "display_data"
    },
    {
     "data": {
      "image/png": "[encoded data removed]",
      "text/plain": [
       "<Figure size 432x288 with 1 Axes>"
      ]
     },
     "metadata": {
      "needs_background": "light"
     },
     "output_type": "display_data"
    },
    {
     "data": {
      "image/png": "[encoded data removed]",
      "text/plain": [
       "<Figure size 432x288 with 1 Axes>"
      ]
     },
     "metadata": {
      "needs_background": "light"
     },
     "output_type": "display_data"
    },
    {
     "data": {
      "image/png": "[encoded data removed]",
      "text/plain": [
       "<Figure size 432x288 with 1 Axes>"
      ]
     },
     "metadata": {
      "needs_background": "light"
     },
     "output_type": "display_data"
    },
    {
     "data": {
      "image/png": "[encoded data removed]",
      "text/plain": [
       "<Figure size 432x288 with 1 Axes>"
      ]
     },
     "metadata": {
      "needs_background": "light"
     },
     "output_type": "display_data"
    },
    {
     "data": {
      "image/png": "[encoded data removed]",
      "text/plain": [
       "<Figure size 432x288 with 1 Axes>"
      ]
     },
     "metadata": {
      "needs_background": "light"
     },
     "output_type": "display_data"
    },
    {
     "data": {
      "image/png": "[encoded data removed]",
      "text/plain": [
       "<Figure size 432x288 with 1 Axes>"
      ]
     },
     "metadata": {
      "needs_background": "light"
     },
     "output_type": "display_data"
    },
    {
     "data": {
      "image/png": "[encoded data removed]",
      "text/plain": [
       "<Figure size 432x288 with 1 Axes>"
      ]
     },
     "metadata": {
      "needs_background": "light"
     },
     "output_type": "display_data"
    },
    {
     "data": {
      "image/png": "[encoded data removed]",
      "text/plain": [
       "<Figure size 432x288 with 1 Axes>"
      ]
     },
     "metadata": {
      "needs_background": "light"
     },
     "output_type": "display_data"
    },
    {
     "data": {
      "image/png": "[encoded data removed]",
      "text/plain": [
       "<Figure size 432x288 with 1 Axes>"
      ]
     },
     "metadata": {
      "needs_background": "light"
     },
     "output_type": "display_data"
    },
    {
     "data": {
      "image/png": "[encoded data removed]",
      "text/plain": [
       "<Figure size 432x288 with 1 Axes>"
      ]
     },
     "metadata": {
      "needs_background": "light"
     },
     "output_type": "display_data"
    },
    {
     "data": {
      "image/png": "[encoded data removed]",
      "text/plain": [
       "<Figure size 432x288 with 1 Axes>"
      ]
     },
     "metadata": {
      "needs_background": "light"
     },
     "output_type": "display_data"
    },
    {
     "data": {
      "image/png": "[encoded data removed]",
      "text/plain": [
       "<Figure size 432x288 with 1 Axes>"
      ]
     },
     "metadata": {
      "needs_background": "light"
     },
     "output_type": "display_data"
    },
    {
     "data": {
      "image/png": "[encoded data removed]",
      "text/plain": [
       "<Figure size 432x288 with 1 Axes>"
      ]
     },
     "metadata": {
      "needs_background": "light"
     },
     "output_type": "display_data"
    },
    {
     "data": {
      "image/png": "[encoded data removed]",
      "text/plain": [
       "<Figure size 432x288 with 1 Axes>"
      ]
     },
     "metadata": {
      "needs_background": "light"
     },
     "output_type": "display_data"
    },
    {
     "data": {
      "image/png": "[encoded data removed]",
      "text/plain": [
       "<Figure size 432x288 with 1 Axes>"
      ]
     },
     "metadata": {
      "needs_background": "light"
     },
     "output_type": "display_data"
    },
    {
     "data": {
      "image/png": "[encoded data removed]",
      "text/plain": [
       "<Figure size 432x288 with 1 Axes>"
      ]
     },
     "metadata": {
      "needs_background": "light"
     },
     "output_type": "display_data"
    },
    {
     "data": {
      "image/png": "[encoded data removed]",
      "text/plain": [
       "<Figure size 432x288 with 1 Axes>"
      ]
     },
     "metadata": {
      "needs_background": "light"
     },
     "output_type": "display_data"
    },
    {
     "data": {
      "image/png": "[encoded data removed]",
      "text/plain": [
       "<Figure size 432x288 with 1 Axes>"
      ]
     },
     "metadata": {
      "needs_background": "light"
     },
     "output_type": "display_data"
    },
    {
     "data": {
      "image/png": "[encoded data removed]",
      "text/plain": [
       "<Figure size 432x288 with 1 Axes>"
      ]
     },
     "metadata": {
      "needs_background": "light"
     },
     "output_type": "display_data"
    },
    {
     "data": {
      "image/png": "[encoded data removed]",
      "text/plain": [
       "<Figure size 432x288 with 1 Axes>"
      ]
     },
     "metadata": {
      "needs_background": "light"
     },
     "output_type": "display_data"
    },
    {
     "data": {
      "image/png": "[encoded data removed]",
      "text/plain": [
       "<Figure size 432x288 with 1 Axes>"
      ]
     },
     "metadata": {
      "needs_background": "light"
     },
     "output_type": "display_data"
    },
    {
     "data": {
      "image/png": "[encoded data removed]",
      "text/plain": [
       "<Figure size 432x288 with 1 Axes>"
      ]
     },
     "metadata": {
      "needs_background": "light"
     },
     "output_type": "display_data"
    }
   ],
   "source": [
    "## Lets analyse the continuous values by creating histograms to understand the distribution\n",
    "for feature in continuous_feature:\n",
    "    data=df.copy()\n",
    "    data[feature].hist(bins=25)\n",
    "    plt.xlabel(feature)\n",
    "    plt.ylabel(\"Count\")\n",
    "    plt.title(feature)\n",
    "    plt.show()"
   ]
  },
  {
   "cell_type": "markdown",
   "id": "6c7b77e9",
   "metadata": {},
   "source": [
    "- All the features are distributed as \"Gaussian Normal Distribution\""
   ]
  },
  {
   "cell_type": "markdown",
   "id": "d2b79a69",
   "metadata": {},
   "source": [
    "- Since the features are distributed Gaussian Narmol Distribution no need for scalling"
   ]
  },
  {
   "cell_type": "markdown",
   "id": "8668ecdd",
   "metadata": {},
   "source": [
    "- No null values means there is no Feature Engineering"
   ]
  },
  {
   "cell_type": "markdown",
   "id": "fa073626",
   "metadata": {},
   "source": [
    "## Outliers"
   ]
  },
  {
   "cell_type": "code",
   "execution_count": 12,
   "id": "e6d276e9",
   "metadata": {},
   "outputs": [
    {
     "data": {
      "image/png": "[encoded data removed]",
      "text/plain": [
       "<Figure size 432x288 with 1 Axes>"
      ]
     },
     "metadata": {
      "needs_background": "light"
     },
     "output_type": "display_data"
    },
    {
     "data": {
      "image/png": "[encoded data removed]",
      "text/plain": [
       "<Figure size 432x288 with 1 Axes>"
      ]
     },
     "metadata": {
      "needs_background": "light"
     },
     "output_type": "display_data"
    },
    {
     "data": {
      "image/png": "[encoded data removed]",
      "text/plain": [
       "<Figure size 432x288 with 1 Axes>"
      ]
     },
     "metadata": {
      "needs_background": "light"
     },
     "output_type": "display_data"
    },
    {
     "data": {
      "image/png": "[encoded data removed]",
      "text/plain": [
       "<Figure size 432x288 with 1 Axes>"
      ]
     },
     "metadata": {
      "needs_background": "light"
     },
     "output_type": "display_data"
    },
    {
     "data": {
      "image/png": "[encoded data removed]",
      "text/plain": [
       "<Figure size 432x288 with 1 Axes>"
      ]
     },
     "metadata": {
      "needs_background": "light"
     },
     "output_type": "display_data"
    },
    {
     "data": {
      "image/png": "[encoded data removed]",
      "text/plain": [
       "<Figure size 432x288 with 1 Axes>"
      ]
     },
     "metadata": {
      "needs_background": "light"
     },
     "output_type": "display_data"
    },
    {
     "data": {
      "image/png": "[encoded data removed]",
      "text/plain": [
       "<Figure size 432x288 with 1 Axes>"
      ]
     },
     "metadata": {
      "needs_background": "light"
     },
     "output_type": "display_data"
    },
    {
     "data": {
      "image/png": "[encoded data removed]",
      "text/plain": [
       "<Figure size 432x288 with 1 Axes>"
      ]
     },
     "metadata": {
      "needs_background": "light"
     },
     "output_type": "display_data"
    },
    {
     "data": {
      "image/png": "[encoded data removed]",
      "text/plain": [
       "<Figure size 432x288 with 1 Axes>"
      ]
     },
     "metadata": {
      "needs_background": "light"
     },
     "output_type": "display_data"
    },
    {
     "data": {
      "image/png": "[encoded data removed]",
      "text/plain": [
       "<Figure size 432x288 with 1 Axes>"
      ]
     },
     "metadata": {
      "needs_background": "light"
     },
     "output_type": "display_data"
    },
    {
     "data": {
      "image/png": "[encoded data removed]",
      "text/plain": [
       "<Figure size 432x288 with 1 Axes>"
      ]
     },
     "metadata": {
      "needs_background": "light"
     },
     "output_type": "display_data"
    },
    {
     "data": {
      "image/png": "[encoded data removed]",
      "text/plain": [
       "<Figure size 432x288 with 1 Axes>"
      ]
     },
     "metadata": {
      "needs_background": "light"
     },
     "output_type": "display_data"
    },
    {
     "data": {
      "image/png": "[encoded data removed]",
      "text/plain": [
       "<Figure size 432x288 with 1 Axes>"
      ]
     },
     "metadata": {
      "needs_background": "light"
     },
     "output_type": "display_data"
    },
    {
     "data": {
      "image/png": "[encoded data removed]",
      "text/plain": [
       "<Figure size 432x288 with 1 Axes>"
      ]
     },
     "metadata": {
      "needs_background": "light"
     },
     "output_type": "display_data"
    },
    {
     "data": {
      "image/png": "[encoded data removed]",
      "text/plain": [
       "<Figure size 432x288 with 1 Axes>"
      ]
     },
     "metadata": {
      "needs_background": "light"
     },
     "output_type": "display_data"
    },
    {
     "data": {
      "image/png": "[encoded data removed]",
      "text/plain": [
       "<Figure size 432x288 with 1 Axes>"
      ]
     },
     "metadata": {
      "needs_background": "light"
     },
     "output_type": "display_data"
    },
    {
     "data": {
      "image/png": "[encoded data removed]",
      "text/plain": [
       "<Figure size 432x288 with 1 Axes>"
      ]
     },
     "metadata": {
      "needs_background": "light"
     },
     "output_type": "display_data"
    },
    {
     "data": {
      "image/png": "[encoded data removed]",
      "text/plain": [
       "<Figure size 432x288 with 1 Axes>"
      ]
     },
     "metadata": {
      "needs_background": "light"
     },
     "output_type": "display_data"
    },
    {
     "data": {
      "image/png": "[encoded data removed]",
      "text/plain": [
       "<Figure size 432x288 with 1 Axes>"
      ]
     },
     "metadata": {
      "needs_background": "light"
     },
     "output_type": "display_data"
    },
    {
     "data": {
      "image/png": "[encoded data removed]",
      "text/plain": [
       "<Figure size 432x288 with 1 Axes>"
      ]
     },
     "metadata": {
      "needs_background": "light"
     },
     "output_type": "display_data"
    },
    {
     "data": {
      "image/png": "[encoded data removed]",
      "text/plain": [
       "<Figure size 432x288 with 1 Axes>"
      ]
     },
     "metadata": {
      "needs_background": "light"
     },
     "output_type": "display_data"
    },
    {
     "data": {
      "image/png": "[encoded data removed]",
      "text/plain": [
       "<Figure size 432x288 with 1 Axes>"
      ]
     },
     "metadata": {
      "needs_background": "light"
     },
     "output_type": "display_data"
    },
    {
     "data": {
      "image/png": "[encoded data removed]",
      "text/plain": [
       "<Figure size 432x288 with 1 Axes>"
      ]
     },
     "metadata": {
      "needs_background": "light"
     },
     "output_type": "display_data"
    },
    {
     "data": {
      "image/png": "[encoded data removed]",
      "text/plain": [
       "<Figure size 432x288 with 1 Axes>"
      ]
     },
     "metadata": {
      "needs_background": "light"
     },
     "output_type": "display_data"
    },
    {
     "data": {
      "image/png": "[encoded data removed]",
      "text/plain": [
       "<Figure size 432x288 with 1 Axes>"
      ]
     },
     "metadata": {
      "needs_background": "light"
     },
     "output_type": "display_data"
    },
    {
     "data": {
      "image/png": "[encoded data removed]",
      "text/plain": [
       "<Figure size 432x288 with 1 Axes>"
      ]
     },
     "metadata": {
      "needs_background": "light"
     },
     "output_type": "display_data"
    },
    {
     "data": {
      "image/png": "[encoded data removed]",
      "text/plain": [
       "<Figure size 432x288 with 1 Axes>"
      ]
     },
     "metadata": {
      "needs_background": "light"
     },
     "output_type": "display_data"
    },
    {
     "data": {
      "image/png": "[encoded data removed]",
      "text/plain": [
       "<Figure size 432x288 with 1 Axes>"
      ]
     },
     "metadata": {
      "needs_background": "light"
     },
     "output_type": "display_data"
    },
    {
     "data": {
      "image/png": "[encoded data removed]",
      "text/plain": [
       "<Figure size 432x288 with 1 Axes>"
      ]
     },
     "metadata": {
      "needs_background": "light"
     },
     "output_type": "display_data"
    },
    {
     "data": {
      "image/png": "[encoded data removed]",
      "text/plain": [
       "<Figure size 432x288 with 1 Axes>"
      ]
     },
     "metadata": {
      "needs_background": "light"
     },
     "output_type": "display_data"
    }
   ],
   "source": [
    "# find the box plot of continuous features\n",
    "for feature in continuous_feature:\n",
    "    data=df.copy()\n",
    "    sns.boxplot(y=data[feature])\n",
    "    plt.xlabel(feature)\n",
    "    plt.ylabel('Count')\n",
    "    plt.title(feature)\n",
    "    plt.show() "
   ]
  },
  {
   "cell_type": "markdown",
   "id": "270d63e5",
   "metadata": {},
   "source": [
    "- It is a Classification Problem so Outliers are minimal affect to Machine Learning algorithm"
   ]
  },
  {
   "cell_type": "code",
   "execution_count": 13,
   "id": "75f226b0",
   "metadata": {},
   "outputs": [
    {
     "data": {
      "image/png": "[encoded data removed]",
      "text/plain": [
       "<Figure size 432x288 with 1 Axes>"
      ]
     },
     "metadata": {
      "needs_background": "light"
     },
     "output_type": "display_data"
    }
   ],
   "source": [
    "# scatter plot \n",
    "ax2 = df.plot.scatter(x='Time',y='Amount',colormap='viridis')\n",
    "     "
   ]
  },
  {
   "cell_type": "markdown",
   "id": "9c1b7598",
   "metadata": {},
   "source": [
    "- The graph above does not appear that there is a clustering pattern on a time interval. So, we would assume that fraud occurred across time quite randomly."
   ]
  },
  {
   "cell_type": "code",
   "execution_count": 14,
   "id": "cfc877c2",
   "metadata": {},
   "outputs": [
    {
     "data": {
      "text/html": [
       "<div>\n",
       "<style scoped>\n",
       "    .dataframe tbody tr th:only-of-type {\n",
       "        vertical-align: middle;\n",
       "    }\n",
       "\n",
       "    .dataframe tbody tr th {\n",
       "        vertical-align: top;\n",
       "    }\n",
       "\n",
       "    .dataframe thead th {\n",
       "        text-align: right;\n",
       "    }\n",
       "</style>\n",
       "<table border=\"1\" class=\"dataframe\">\n",
       "  <thead>\n",
       "    <tr style=\"text-align: right;\">\n",
       "      <th></th>\n",
       "      <th>Time</th>\n",
       "      <th>V1</th>\n",
       "      <th>V2</th>\n",
       "      <th>V3</th>\n",
       "      <th>V4</th>\n",
       "      <th>V5</th>\n",
       "      <th>V6</th>\n",
       "      <th>V7</th>\n",
       "      <th>V8</th>\n",
       "      <th>V9</th>\n",
       "      <th>V10</th>\n",
       "      <th>V11</th>\n",
       "      <th>V12</th>\n",
       "      <th>V13</th>\n",
       "      <th>V14</th>\n",
       "      <th>V15</th>\n",
       "      <th>V16</th>\n",
       "      <th>V17</th>\n",
       "      <th>V18</th>\n",
       "      <th>V19</th>\n",
       "      <th>V20</th>\n",
       "      <th>V21</th>\n",
       "      <th>V22</th>\n",
       "      <th>V23</th>\n",
       "      <th>V24</th>\n",
       "      <th>V25</th>\n",
       "      <th>V26</th>\n",
       "      <th>V27</th>\n",
       "      <th>V28</th>\n",
       "      <th>Amount</th>\n",
       "    </tr>\n",
       "  </thead>\n",
       "  <tbody>\n",
       "    <tr>\n",
       "      <th>Time</th>\n",
       "      <td>1.000000</td>\n",
       "      <td>1.173963e-01</td>\n",
       "      <td>-1.059333e-02</td>\n",
       "      <td>-4.196182e-01</td>\n",
       "      <td>-1.052602e-01</td>\n",
       "      <td>1.730721e-01</td>\n",
       "      <td>-6.301647e-02</td>\n",
       "      <td>8.471437e-02</td>\n",
       "      <td>-3.694943e-02</td>\n",
       "      <td>-8.660434e-03</td>\n",
       "      <td>3.061663e-02</td>\n",
       "      <td>-2.476894e-01</td>\n",
       "      <td>1.243481e-01</td>\n",
       "      <td>-6.590202e-02</td>\n",
       "      <td>-9.875682e-02</td>\n",
       "      <td>-1.834533e-01</td>\n",
       "      <td>1.190287e-02</td>\n",
       "      <td>-7.329721e-02</td>\n",
       "      <td>9.043813e-02</td>\n",
       "      <td>2.897530e-02</td>\n",
       "      <td>-5.086602e-02</td>\n",
       "      <td>4.473573e-02</td>\n",
       "      <td>1.440591e-01</td>\n",
       "      <td>5.114236e-02</td>\n",
       "      <td>-1.618187e-02</td>\n",
       "      <td>-2.330828e-01</td>\n",
       "      <td>-4.140710e-02</td>\n",
       "      <td>-5.134591e-03</td>\n",
       "      <td>-9.412688e-03</td>\n",
       "      <td>-0.010596</td>\n",
       "    </tr>\n",
       "    <tr>\n",
       "      <th>V1</th>\n",
       "      <td>0.117396</td>\n",
       "      <td>1.000000e+00</td>\n",
       "      <td>4.135835e-16</td>\n",
       "      <td>-1.227819e-15</td>\n",
       "      <td>-9.215150e-16</td>\n",
       "      <td>1.812612e-17</td>\n",
       "      <td>-6.506567e-16</td>\n",
       "      <td>-1.005191e-15</td>\n",
       "      <td>-2.433822e-16</td>\n",
       "      <td>-1.513678e-16</td>\n",
       "      <td>7.388135e-17</td>\n",
       "      <td>2.125498e-16</td>\n",
       "      <td>2.053457e-16</td>\n",
       "      <td>-2.425603e-17</td>\n",
       "      <td>-5.020280e-16</td>\n",
       "      <td>3.547782e-16</td>\n",
       "      <td>7.212815e-17</td>\n",
       "      <td>-3.879840e-16</td>\n",
       "      <td>3.230206e-17</td>\n",
       "      <td>1.502024e-16</td>\n",
       "      <td>4.654551e-16</td>\n",
       "      <td>-2.457409e-16</td>\n",
       "      <td>-4.290944e-16</td>\n",
       "      <td>6.168652e-16</td>\n",
       "      <td>-4.425156e-17</td>\n",
       "      <td>-9.605737e-16</td>\n",
       "      <td>-1.581290e-17</td>\n",
       "      <td>1.198124e-16</td>\n",
       "      <td>2.083082e-15</td>\n",
       "      <td>-0.227709</td>\n",
       "    </tr>\n",
       "    <tr>\n",
       "      <th>V2</th>\n",
       "      <td>-0.010593</td>\n",
       "      <td>4.135835e-16</td>\n",
       "      <td>1.000000e+00</td>\n",
       "      <td>3.243764e-16</td>\n",
       "      <td>-1.121065e-15</td>\n",
       "      <td>5.157519e-16</td>\n",
       "      <td>2.787346e-16</td>\n",
       "      <td>2.055934e-16</td>\n",
       "      <td>-5.377041e-17</td>\n",
       "      <td>1.978488e-17</td>\n",
       "      <td>-3.991394e-16</td>\n",
       "      <td>1.975426e-16</td>\n",
       "      <td>-9.568710e-17</td>\n",
       "      <td>6.295388e-16</td>\n",
       "      <td>-1.730566e-16</td>\n",
       "      <td>-4.995814e-17</td>\n",
       "      <td>1.177316e-17</td>\n",
       "      <td>-2.685296e-16</td>\n",
       "      <td>3.284605e-16</td>\n",
       "      <td>-7.118719e-18</td>\n",
       "      <td>2.506675e-16</td>\n",
       "      <td>-8.480447e-17</td>\n",
       "      <td>1.526333e-16</td>\n",
       "      <td>1.634231e-16</td>\n",
       "      <td>1.247925e-17</td>\n",
       "      <td>-4.478846e-16</td>\n",
       "      <td>2.057310e-16</td>\n",
       "      <td>-4.966953e-16</td>\n",
       "      <td>-5.093836e-16</td>\n",
       "      <td>-0.531409</td>\n",
       "    </tr>\n",
       "    <tr>\n",
       "      <th>V3</th>\n",
       "      <td>-0.419618</td>\n",
       "      <td>-1.227819e-15</td>\n",
       "      <td>3.243764e-16</td>\n",
       "      <td>1.000000e+00</td>\n",
       "      <td>4.711293e-16</td>\n",
       "      <td>-6.539009e-17</td>\n",
       "      <td>1.627627e-15</td>\n",
       "      <td>4.895305e-16</td>\n",
       "      <td>-1.268779e-15</td>\n",
       "      <td>5.568367e-16</td>\n",
       "      <td>1.156587e-15</td>\n",
       "      <td>1.576830e-15</td>\n",
       "      <td>6.310231e-16</td>\n",
       "      <td>2.807652e-16</td>\n",
       "      <td>4.739859e-16</td>\n",
       "      <td>9.068793e-16</td>\n",
       "      <td>8.299445e-16</td>\n",
       "      <td>7.614712e-16</td>\n",
       "      <td>1.509897e-16</td>\n",
       "      <td>3.463522e-16</td>\n",
       "      <td>-9.316409e-16</td>\n",
       "      <td>5.706192e-17</td>\n",
       "      <td>-1.133902e-15</td>\n",
       "      <td>-4.983035e-16</td>\n",
       "      <td>2.686834e-19</td>\n",
       "      <td>-1.104734e-15</td>\n",
       "      <td>-1.238062e-16</td>\n",
       "      <td>1.045747e-15</td>\n",
       "      <td>9.775546e-16</td>\n",
       "      <td>-0.210880</td>\n",
       "    </tr>\n",
       "    <tr>\n",
       "      <th>V4</th>\n",
       "      <td>-0.105260</td>\n",
       "      <td>-9.215150e-16</td>\n",
       "      <td>-1.121065e-15</td>\n",
       "      <td>4.711293e-16</td>\n",
       "      <td>1.000000e+00</td>\n",
       "      <td>-1.719944e-15</td>\n",
       "      <td>-7.491959e-16</td>\n",
       "      <td>-4.104503e-16</td>\n",
       "      <td>5.697192e-16</td>\n",
       "      <td>6.923247e-16</td>\n",
       "      <td>2.232685e-16</td>\n",
       "      <td>3.459380e-16</td>\n",
       "      <td>-5.625518e-16</td>\n",
       "      <td>1.303306e-16</td>\n",
       "      <td>2.282280e-16</td>\n",
       "      <td>1.377649e-16</td>\n",
       "      <td>-9.614528e-16</td>\n",
       "      <td>-2.699612e-16</td>\n",
       "      <td>-5.103644e-16</td>\n",
       "      <td>-3.980557e-16</td>\n",
       "      <td>-1.857247e-16</td>\n",
       "      <td>-1.949553e-16</td>\n",
       "      <td>-6.276051e-17</td>\n",
       "      <td>9.164206e-17</td>\n",
       "      <td>1.584638e-16</td>\n",
       "      <td>6.070716e-16</td>\n",
       "      <td>-4.247268e-16</td>\n",
       "      <td>3.977061e-17</td>\n",
       "      <td>-2.761403e-18</td>\n",
       "      <td>0.098732</td>\n",
       "    </tr>\n",
       "    <tr>\n",
       "      <th>V5</th>\n",
       "      <td>0.173072</td>\n",
       "      <td>1.812612e-17</td>\n",
       "      <td>5.157519e-16</td>\n",
       "      <td>-6.539009e-17</td>\n",
       "      <td>-1.719944e-15</td>\n",
       "      <td>1.000000e+00</td>\n",
       "      <td>2.408382e-16</td>\n",
       "      <td>2.715541e-16</td>\n",
       "      <td>7.437229e-16</td>\n",
       "      <td>7.391702e-16</td>\n",
       "      <td>-5.202306e-16</td>\n",
       "      <td>7.203963e-16</td>\n",
       "      <td>7.412552e-16</td>\n",
       "      <td>5.886991e-16</td>\n",
       "      <td>6.565143e-16</td>\n",
       "      <td>-8.720275e-16</td>\n",
       "      <td>2.246261e-15</td>\n",
       "      <td>1.281914e-16</td>\n",
       "      <td>5.308590e-16</td>\n",
       "      <td>-1.450421e-16</td>\n",
       "      <td>-3.554057e-16</td>\n",
       "      <td>-3.920976e-16</td>\n",
       "      <td>1.253751e-16</td>\n",
       "      <td>-8.428683e-18</td>\n",
       "      <td>-1.149255e-15</td>\n",
       "      <td>4.808532e-16</td>\n",
       "      <td>4.319541e-16</td>\n",
       "      <td>6.590482e-16</td>\n",
       "      <td>-5.613951e-18</td>\n",
       "      <td>-0.386356</td>\n",
       "    </tr>\n",
       "    <tr>\n",
       "      <th>V6</th>\n",
       "      <td>-0.063016</td>\n",
       "      <td>-6.506567e-16</td>\n",
       "      <td>2.787346e-16</td>\n",
       "      <td>1.627627e-15</td>\n",
       "      <td>-7.491959e-16</td>\n",
       "      <td>2.408382e-16</td>\n",
       "      <td>1.000000e+00</td>\n",
       "      <td>1.191668e-16</td>\n",
       "      <td>-1.104219e-16</td>\n",
       "      <td>4.131207e-16</td>\n",
       "      <td>5.932243e-17</td>\n",
       "      <td>1.980503e-15</td>\n",
       "      <td>2.375468e-16</td>\n",
       "      <td>-1.211182e-16</td>\n",
       "      <td>2.621312e-16</td>\n",
       "      <td>-1.531188e-15</td>\n",
       "      <td>2.623672e-18</td>\n",
       "      <td>2.015618e-16</td>\n",
       "      <td>1.223814e-16</td>\n",
       "      <td>-1.865597e-16</td>\n",
       "      <td>-1.858755e-16</td>\n",
       "      <td>5.833316e-17</td>\n",
       "      <td>-4.705235e-19</td>\n",
       "      <td>1.046712e-16</td>\n",
       "      <td>-1.071589e-15</td>\n",
       "      <td>4.562861e-16</td>\n",
       "      <td>-1.357067e-16</td>\n",
       "      <td>-4.452461e-16</td>\n",
       "      <td>2.594754e-16</td>\n",
       "      <td>0.215981</td>\n",
       "    </tr>\n",
       "    <tr>\n",
       "      <th>V7</th>\n",
       "      <td>0.084714</td>\n",
       "      <td>-1.005191e-15</td>\n",
       "      <td>2.055934e-16</td>\n",
       "      <td>4.895305e-16</td>\n",
       "      <td>-4.104503e-16</td>\n",
       "      <td>2.715541e-16</td>\n",
       "      <td>1.191668e-16</td>\n",
       "      <td>1.000000e+00</td>\n",
       "      <td>3.344412e-16</td>\n",
       "      <td>1.122501e-15</td>\n",
       "      <td>-7.492834e-17</td>\n",
       "      <td>1.425248e-16</td>\n",
       "      <td>-3.536655e-18</td>\n",
       "      <td>1.266462e-17</td>\n",
       "      <td>2.607772e-16</td>\n",
       "      <td>-1.690540e-16</td>\n",
       "      <td>5.869302e-17</td>\n",
       "      <td>2.177192e-16</td>\n",
       "      <td>7.604126e-17</td>\n",
       "      <td>-1.881008e-16</td>\n",
       "      <td>9.379684e-16</td>\n",
       "      <td>-2.027779e-16</td>\n",
       "      <td>-8.898922e-16</td>\n",
       "      <td>-4.387401e-16</td>\n",
       "      <td>7.434913e-18</td>\n",
       "      <td>-3.094082e-16</td>\n",
       "      <td>-9.657637e-16</td>\n",
       "      <td>-1.782106e-15</td>\n",
       "      <td>-2.776530e-16</td>\n",
       "      <td>0.397311</td>\n",
       "    </tr>\n",
       "    <tr>\n",
       "      <th>V8</th>\n",
       "      <td>-0.036949</td>\n",
       "      <td>-2.433822e-16</td>\n",
       "      <td>-5.377041e-17</td>\n",
       "      <td>-1.268779e-15</td>\n",
       "      <td>5.697192e-16</td>\n",
       "      <td>7.437229e-16</td>\n",
       "      <td>-1.104219e-16</td>\n",
       "      <td>3.344412e-16</td>\n",
       "      <td>1.000000e+00</td>\n",
       "      <td>4.356078e-16</td>\n",
       "      <td>-2.801370e-16</td>\n",
       "      <td>2.487043e-16</td>\n",
       "      <td>1.839891e-16</td>\n",
       "      <td>-2.921856e-16</td>\n",
       "      <td>-8.599156e-16</td>\n",
       "      <td>4.127777e-16</td>\n",
       "      <td>-5.254741e-16</td>\n",
       "      <td>-2.269549e-16</td>\n",
       "      <td>-3.667974e-16</td>\n",
       "      <td>-3.875186e-16</td>\n",
       "      <td>2.033737e-16</td>\n",
       "      <td>3.892798e-16</td>\n",
       "      <td>2.026927e-16</td>\n",
       "      <td>6.377260e-17</td>\n",
       "      <td>-1.047097e-16</td>\n",
       "      <td>-4.653279e-16</td>\n",
       "      <td>-1.727276e-16</td>\n",
       "      <td>1.299943e-16</td>\n",
       "      <td>-6.200930e-16</td>\n",
       "      <td>-0.103079</td>\n",
       "    </tr>\n",
       "    <tr>\n",
       "      <th>V9</th>\n",
       "      <td>-0.008660</td>\n",
       "      <td>-1.513678e-16</td>\n",
       "      <td>1.978488e-17</td>\n",
       "      <td>5.568367e-16</td>\n",
       "      <td>6.923247e-16</td>\n",
       "      <td>7.391702e-16</td>\n",
       "      <td>4.131207e-16</td>\n",
       "      <td>1.122501e-15</td>\n",
       "      <td>4.356078e-16</td>\n",
       "      <td>1.000000e+00</td>\n",
       "      <td>-4.642274e-16</td>\n",
       "      <td>1.354680e-16</td>\n",
       "      <td>-1.079314e-15</td>\n",
       "      <td>2.251072e-15</td>\n",
       "      <td>3.784757e-15</td>\n",
       "      <td>-1.051167e-15</td>\n",
       "      <td>-1.214086e-15</td>\n",
       "      <td>1.113695e-15</td>\n",
       "      <td>4.993240e-16</td>\n",
       "      <td>-1.376135e-16</td>\n",
       "      <td>-2.343720e-16</td>\n",
       "      <td>1.936953e-16</td>\n",
       "      <td>-7.071869e-16</td>\n",
       "      <td>-5.214137e-16</td>\n",
       "      <td>-1.430343e-16</td>\n",
       "      <td>6.757763e-16</td>\n",
       "      <td>-7.888853e-16</td>\n",
       "      <td>-6.709655e-17</td>\n",
       "      <td>1.110541e-15</td>\n",
       "      <td>-0.044246</td>\n",
       "    </tr>\n",
       "    <tr>\n",
       "      <th>V10</th>\n",
       "      <td>0.030617</td>\n",
       "      <td>7.388135e-17</td>\n",
       "      <td>-3.991394e-16</td>\n",
       "      <td>1.156587e-15</td>\n",
       "      <td>2.232685e-16</td>\n",
       "      <td>-5.202306e-16</td>\n",
       "      <td>5.932243e-17</td>\n",
       "      <td>-7.492834e-17</td>\n",
       "      <td>-2.801370e-16</td>\n",
       "      <td>-4.642274e-16</td>\n",
       "      <td>1.000000e+00</td>\n",
       "      <td>-4.622103e-16</td>\n",
       "      <td>1.771869e-15</td>\n",
       "      <td>-5.418460e-16</td>\n",
       "      <td>2.635936e-16</td>\n",
       "      <td>5.786332e-16</td>\n",
       "      <td>3.545450e-16</td>\n",
       "      <td>1.542955e-15</td>\n",
       "      <td>3.902423e-16</td>\n",
       "      <td>3.437633e-17</td>\n",
       "      <td>-1.331556e-15</td>\n",
       "      <td>1.177547e-15</td>\n",
       "      <td>-6.418202e-16</td>\n",
       "      <td>3.214491e-16</td>\n",
       "      <td>-1.355885e-16</td>\n",
       "      <td>-2.846052e-16</td>\n",
       "      <td>-3.028119e-16</td>\n",
       "      <td>-2.197977e-16</td>\n",
       "      <td>4.864782e-17</td>\n",
       "      <td>-0.101502</td>\n",
       "    </tr>\n",
       "    <tr>\n",
       "      <th>V11</th>\n",
       "      <td>-0.247689</td>\n",
       "      <td>2.125498e-16</td>\n",
       "      <td>1.975426e-16</td>\n",
       "      <td>1.576830e-15</td>\n",
       "      <td>3.459380e-16</td>\n",
       "      <td>7.203963e-16</td>\n",
       "      <td>1.980503e-15</td>\n",
       "      <td>1.425248e-16</td>\n",
       "      <td>2.487043e-16</td>\n",
       "      <td>1.354680e-16</td>\n",
       "      <td>-4.622103e-16</td>\n",
       "      <td>1.000000e+00</td>\n",
       "      <td>6.370789e-16</td>\n",
       "      <td>1.958377e-16</td>\n",
       "      <td>2.700918e-16</td>\n",
       "      <td>1.332323e-15</td>\n",
       "      <td>5.840590e-16</td>\n",
       "      <td>7.151185e-16</td>\n",
       "      <td>1.440913e-16</td>\n",
       "      <td>-7.389748e-16</td>\n",
       "      <td>-1.481299e-16</td>\n",
       "      <td>-5.658364e-16</td>\n",
       "      <td>7.772895e-16</td>\n",
       "      <td>-4.505332e-16</td>\n",
       "      <td>1.933267e-15</td>\n",
       "      <td>-5.600475e-16</td>\n",
       "      <td>-1.003221e-16</td>\n",
       "      <td>-2.640281e-16</td>\n",
       "      <td>-3.792314e-16</td>\n",
       "      <td>0.000104</td>\n",
       "    </tr>\n",
       "    <tr>\n",
       "      <th>V12</th>\n",
       "      <td>0.124348</td>\n",
       "      <td>2.053457e-16</td>\n",
       "      <td>-9.568710e-17</td>\n",
       "      <td>6.310231e-16</td>\n",
       "      <td>-5.625518e-16</td>\n",
       "      <td>7.412552e-16</td>\n",
       "      <td>2.375468e-16</td>\n",
       "      <td>-3.536655e-18</td>\n",
       "      <td>1.839891e-16</td>\n",
       "      <td>-1.079314e-15</td>\n",
       "      <td>1.771869e-15</td>\n",
       "      <td>6.370789e-16</td>\n",
       "      <td>1.000000e+00</td>\n",
       "      <td>-2.321486e-14</td>\n",
       "      <td>2.770714e-17</td>\n",
       "      <td>-1.360416e-15</td>\n",
       "      <td>5.335134e-16</td>\n",
       "      <td>5.648453e-16</td>\n",
       "      <td>3.036293e-17</td>\n",
       "      <td>1.469557e-16</td>\n",
       "      <td>3.430282e-16</td>\n",
       "      <td>7.300527e-16</td>\n",
       "      <td>1.644699e-16</td>\n",
       "      <td>1.800885e-16</td>\n",
       "      <td>4.436512e-16</td>\n",
       "      <td>-5.712973e-16</td>\n",
       "      <td>-2.359969e-16</td>\n",
       "      <td>-4.672391e-16</td>\n",
       "      <td>6.415167e-16</td>\n",
       "      <td>-0.009542</td>\n",
       "    </tr>\n",
       "    <tr>\n",
       "      <th>V13</th>\n",
       "      <td>-0.065902</td>\n",
       "      <td>-2.425603e-17</td>\n",
       "      <td>6.295388e-16</td>\n",
       "      <td>2.807652e-16</td>\n",
       "      <td>1.303306e-16</td>\n",
       "      <td>5.886991e-16</td>\n",
       "      <td>-1.211182e-16</td>\n",
       "      <td>1.266462e-17</td>\n",
       "      <td>-2.921856e-16</td>\n",
       "      <td>2.251072e-15</td>\n",
       "      <td>-5.418460e-16</td>\n",
       "      <td>1.958377e-16</td>\n",
       "      <td>-2.321486e-14</td>\n",
       "      <td>1.000000e+00</td>\n",
       "      <td>2.161967e-15</td>\n",
       "      <td>1.388143e-16</td>\n",
       "      <td>6.044197e-16</td>\n",
       "      <td>7.584436e-17</td>\n",
       "      <td>4.157330e-16</td>\n",
       "      <td>-1.861400e-16</td>\n",
       "      <td>5.623856e-18</td>\n",
       "      <td>1.008461e-16</td>\n",
       "      <td>6.747721e-17</td>\n",
       "      <td>-7.132064e-16</td>\n",
       "      <td>-1.397470e-16</td>\n",
       "      <td>-5.497612e-16</td>\n",
       "      <td>-1.769255e-16</td>\n",
       "      <td>-4.720898e-16</td>\n",
       "      <td>1.144372e-15</td>\n",
       "      <td>0.005293</td>\n",
       "    </tr>\n",
       "    <tr>\n",
       "      <th>V14</th>\n",
       "      <td>-0.098757</td>\n",
       "      <td>-5.020280e-16</td>\n",
       "      <td>-1.730566e-16</td>\n",
       "      <td>4.739859e-16</td>\n",
       "      <td>2.282280e-16</td>\n",
       "      <td>6.565143e-16</td>\n",
       "      <td>2.621312e-16</td>\n",
       "      <td>2.607772e-16</td>\n",
       "      <td>-8.599156e-16</td>\n",
       "      <td>3.784757e-15</td>\n",
       "      <td>2.635936e-16</td>\n",
       "      <td>2.700918e-16</td>\n",
       "      <td>2.770714e-17</td>\n",
       "      <td>2.161967e-15</td>\n",
       "      <td>1.000000e+00</td>\n",
       "      <td>-3.808118e-17</td>\n",
       "      <td>-1.439858e-15</td>\n",
       "      <td>1.162529e-15</td>\n",
       "      <td>1.642378e-15</td>\n",
       "      <td>1.977020e-16</td>\n",
       "      <td>-1.181342e-17</td>\n",
       "      <td>-3.356561e-16</td>\n",
       "      <td>3.740383e-16</td>\n",
       "      <td>3.883204e-16</td>\n",
       "      <td>2.003482e-16</td>\n",
       "      <td>-8.547932e-16</td>\n",
       "      <td>-1.660327e-16</td>\n",
       "      <td>1.044274e-16</td>\n",
       "      <td>2.289427e-15</td>\n",
       "      <td>0.033751</td>\n",
       "    </tr>\n",
       "    <tr>\n",
       "      <th>V15</th>\n",
       "      <td>-0.183453</td>\n",
       "      <td>3.547782e-16</td>\n",
       "      <td>-4.995814e-17</td>\n",
       "      <td>9.068793e-16</td>\n",
       "      <td>1.377649e-16</td>\n",
       "      <td>-8.720275e-16</td>\n",
       "      <td>-1.531188e-15</td>\n",
       "      <td>-1.690540e-16</td>\n",
       "      <td>4.127777e-16</td>\n",
       "      <td>-1.051167e-15</td>\n",
       "      <td>5.786332e-16</td>\n",
       "      <td>1.332323e-15</td>\n",
       "      <td>-1.360416e-15</td>\n",
       "      <td>1.388143e-16</td>\n",
       "      <td>-3.808118e-17</td>\n",
       "      <td>1.000000e+00</td>\n",
       "      <td>1.332390e-15</td>\n",
       "      <td>6.647712e-16</td>\n",
       "      <td>3.475832e-16</td>\n",
       "      <td>-1.483185e-15</td>\n",
       "      <td>4.300086e-16</td>\n",
       "      <td>6.605263e-17</td>\n",
       "      <td>-4.208921e-16</td>\n",
       "      <td>-3.912243e-16</td>\n",
       "      <td>-4.478263e-16</td>\n",
       "      <td>3.206423e-16</td>\n",
       "      <td>2.817791e-16</td>\n",
       "      <td>-1.143519e-15</td>\n",
       "      <td>-1.194130e-15</td>\n",
       "      <td>-0.002986</td>\n",
       "    </tr>\n",
       "    <tr>\n",
       "      <th>V16</th>\n",
       "      <td>0.011903</td>\n",
       "      <td>7.212815e-17</td>\n",
       "      <td>1.177316e-17</td>\n",
       "      <td>8.299445e-16</td>\n",
       "      <td>-9.614528e-16</td>\n",
       "      <td>2.246261e-15</td>\n",
       "      <td>2.623672e-18</td>\n",
       "      <td>5.869302e-17</td>\n",
       "      <td>-5.254741e-16</td>\n",
       "      <td>-1.214086e-15</td>\n",
       "      <td>3.545450e-16</td>\n",
       "      <td>5.840590e-16</td>\n",
       "      <td>5.335134e-16</td>\n",
       "      <td>6.044197e-16</td>\n",
       "      <td>-1.439858e-15</td>\n",
       "      <td>1.332390e-15</td>\n",
       "      <td>1.000000e+00</td>\n",
       "      <td>2.482413e-15</td>\n",
       "      <td>-2.420915e-15</td>\n",
       "      <td>1.307241e-15</td>\n",
       "      <td>5.176564e-16</td>\n",
       "      <td>-4.715090e-16</td>\n",
       "      <td>-7.923387e-17</td>\n",
       "      <td>5.020770e-16</td>\n",
       "      <td>-3.005985e-16</td>\n",
       "      <td>-1.345418e-15</td>\n",
       "      <td>-7.290010e-16</td>\n",
       "      <td>6.789513e-16</td>\n",
       "      <td>7.588849e-16</td>\n",
       "      <td>-0.003910</td>\n",
       "    </tr>\n",
       "    <tr>\n",
       "      <th>V17</th>\n",
       "      <td>-0.073297</td>\n",
       "      <td>-3.879840e-16</td>\n",
       "      <td>-2.685296e-16</td>\n",
       "      <td>7.614712e-16</td>\n",
       "      <td>-2.699612e-16</td>\n",
       "      <td>1.281914e-16</td>\n",
       "      <td>2.015618e-16</td>\n",
       "      <td>2.177192e-16</td>\n",
       "      <td>-2.269549e-16</td>\n",
       "      <td>1.113695e-15</td>\n",
       "      <td>1.542955e-15</td>\n",
       "      <td>7.151185e-16</td>\n",
       "      <td>5.648453e-16</td>\n",
       "      <td>7.584436e-17</td>\n",
       "      <td>1.162529e-15</td>\n",
       "      <td>6.647712e-16</td>\n",
       "      <td>2.482413e-15</td>\n",
       "      <td>1.000000e+00</td>\n",
       "      <td>-4.894901e-15</td>\n",
       "      <td>-3.883099e-16</td>\n",
       "      <td>-1.390308e-15</td>\n",
       "      <td>-8.230527e-16</td>\n",
       "      <td>-8.743398e-16</td>\n",
       "      <td>3.706214e-16</td>\n",
       "      <td>-2.403828e-16</td>\n",
       "      <td>2.666806e-16</td>\n",
       "      <td>6.932833e-16</td>\n",
       "      <td>6.148525e-16</td>\n",
       "      <td>-5.534540e-17</td>\n",
       "      <td>0.007309</td>\n",
       "    </tr>\n",
       "    <tr>\n",
       "      <th>V18</th>\n",
       "      <td>0.090438</td>\n",
       "      <td>3.230206e-17</td>\n",
       "      <td>3.284605e-16</td>\n",
       "      <td>1.509897e-16</td>\n",
       "      <td>-5.103644e-16</td>\n",
       "      <td>5.308590e-16</td>\n",
       "      <td>1.223814e-16</td>\n",
       "      <td>7.604126e-17</td>\n",
       "      <td>-3.667974e-16</td>\n",
       "      <td>4.993240e-16</td>\n",
       "      <td>3.902423e-16</td>\n",
       "      <td>1.440913e-16</td>\n",
       "      <td>3.036293e-17</td>\n",
       "      <td>4.157330e-16</td>\n",
       "      <td>1.642378e-15</td>\n",
       "      <td>3.475832e-16</td>\n",
       "      <td>-2.420915e-15</td>\n",
       "      <td>-4.894901e-15</td>\n",
       "      <td>1.000000e+00</td>\n",
       "      <td>-2.499138e-15</td>\n",
       "      <td>-3.711302e-16</td>\n",
       "      <td>-9.408680e-16</td>\n",
       "      <td>-4.819365e-16</td>\n",
       "      <td>-1.912006e-16</td>\n",
       "      <td>-8.986916e-17</td>\n",
       "      <td>-6.629212e-17</td>\n",
       "      <td>2.990167e-16</td>\n",
       "      <td>2.242791e-16</td>\n",
       "      <td>7.976796e-16</td>\n",
       "      <td>0.035650</td>\n",
       "    </tr>\n",
       "    <tr>\n",
       "      <th>V19</th>\n",
       "      <td>0.028975</td>\n",
       "      <td>1.502024e-16</td>\n",
       "      <td>-7.118719e-18</td>\n",
       "      <td>3.463522e-16</td>\n",
       "      <td>-3.980557e-16</td>\n",
       "      <td>-1.450421e-16</td>\n",
       "      <td>-1.865597e-16</td>\n",
       "      <td>-1.881008e-16</td>\n",
       "      <td>-3.875186e-16</td>\n",
       "      <td>-1.376135e-16</td>\n",
       "      <td>3.437633e-17</td>\n",
       "      <td>-7.389748e-16</td>\n",
       "      <td>1.469557e-16</td>\n",
       "      <td>-1.861400e-16</td>\n",
       "      <td>1.977020e-16</td>\n",
       "      <td>-1.483185e-15</td>\n",
       "      <td>1.307241e-15</td>\n",
       "      <td>-3.883099e-16</td>\n",
       "      <td>-2.499138e-15</td>\n",
       "      <td>1.000000e+00</td>\n",
       "      <td>2.614882e-16</td>\n",
       "      <td>5.115885e-16</td>\n",
       "      <td>-1.163768e-15</td>\n",
       "      <td>7.032035e-16</td>\n",
       "      <td>2.587708e-17</td>\n",
       "      <td>9.577163e-16</td>\n",
       "      <td>5.898033e-16</td>\n",
       "      <td>-2.959370e-16</td>\n",
       "      <td>-1.405379e-15</td>\n",
       "      <td>-0.056151</td>\n",
       "    </tr>\n",
       "    <tr>\n",
       "      <th>V20</th>\n",
       "      <td>-0.050866</td>\n",
       "      <td>4.654551e-16</td>\n",
       "      <td>2.506675e-16</td>\n",
       "      <td>-9.316409e-16</td>\n",
       "      <td>-1.857247e-16</td>\n",
       "      <td>-3.554057e-16</td>\n",
       "      <td>-1.858755e-16</td>\n",
       "      <td>9.379684e-16</td>\n",
       "      <td>2.033737e-16</td>\n",
       "      <td>-2.343720e-16</td>\n",
       "      <td>-1.331556e-15</td>\n",
       "      <td>-1.481299e-16</td>\n",
       "      <td>3.430282e-16</td>\n",
       "      <td>5.623856e-18</td>\n",
       "      <td>-1.181342e-17</td>\n",
       "      <td>4.300086e-16</td>\n",
       "      <td>5.176564e-16</td>\n",
       "      <td>-1.390308e-15</td>\n",
       "      <td>-3.711302e-16</td>\n",
       "      <td>2.614882e-16</td>\n",
       "      <td>1.000000e+00</td>\n",
       "      <td>-7.614597e-16</td>\n",
       "      <td>1.009285e-15</td>\n",
       "      <td>2.712885e-16</td>\n",
       "      <td>1.277215e-16</td>\n",
       "      <td>1.410054e-16</td>\n",
       "      <td>-2.803504e-16</td>\n",
       "      <td>-1.138829e-15</td>\n",
       "      <td>-2.436795e-16</td>\n",
       "      <td>0.339403</td>\n",
       "    </tr>\n",
       "    <tr>\n",
       "      <th>V21</th>\n",
       "      <td>0.044736</td>\n",
       "      <td>-2.457409e-16</td>\n",
       "      <td>-8.480447e-17</td>\n",
       "      <td>5.706192e-17</td>\n",
       "      <td>-1.949553e-16</td>\n",
       "      <td>-3.920976e-16</td>\n",
       "      <td>5.833316e-17</td>\n",
       "      <td>-2.027779e-16</td>\n",
       "      <td>3.892798e-16</td>\n",
       "      <td>1.936953e-16</td>\n",
       "      <td>1.177547e-15</td>\n",
       "      <td>-5.658364e-16</td>\n",
       "      <td>7.300527e-16</td>\n",
       "      <td>1.008461e-16</td>\n",
       "      <td>-3.356561e-16</td>\n",
       "      <td>6.605263e-17</td>\n",
       "      <td>-4.715090e-16</td>\n",
       "      <td>-8.230527e-16</td>\n",
       "      <td>-9.408680e-16</td>\n",
       "      <td>5.115885e-16</td>\n",
       "      <td>-7.614597e-16</td>\n",
       "      <td>1.000000e+00</td>\n",
       "      <td>3.649908e-15</td>\n",
       "      <td>8.119580e-16</td>\n",
       "      <td>1.761054e-16</td>\n",
       "      <td>-1.686082e-16</td>\n",
       "      <td>-5.557329e-16</td>\n",
       "      <td>-1.211281e-15</td>\n",
       "      <td>5.278775e-16</td>\n",
       "      <td>0.105999</td>\n",
       "    </tr>\n",
       "    <tr>\n",
       "      <th>V22</th>\n",
       "      <td>0.144059</td>\n",
       "      <td>-4.290944e-16</td>\n",
       "      <td>1.526333e-16</td>\n",
       "      <td>-1.133902e-15</td>\n",
       "      <td>-6.276051e-17</td>\n",
       "      <td>1.253751e-16</td>\n",
       "      <td>-4.705235e-19</td>\n",
       "      <td>-8.898922e-16</td>\n",
       "      <td>2.026927e-16</td>\n",
       "      <td>-7.071869e-16</td>\n",
       "      <td>-6.418202e-16</td>\n",
       "      <td>7.772895e-16</td>\n",
       "      <td>1.644699e-16</td>\n",
       "      <td>6.747721e-17</td>\n",
       "      <td>3.740383e-16</td>\n",
       "      <td>-4.208921e-16</td>\n",
       "      <td>-7.923387e-17</td>\n",
       "      <td>-8.743398e-16</td>\n",
       "      <td>-4.819365e-16</td>\n",
       "      <td>-1.163768e-15</td>\n",
       "      <td>1.009285e-15</td>\n",
       "      <td>3.649908e-15</td>\n",
       "      <td>1.000000e+00</td>\n",
       "      <td>-7.303916e-17</td>\n",
       "      <td>9.970809e-17</td>\n",
       "      <td>-5.018575e-16</td>\n",
       "      <td>-2.503187e-17</td>\n",
       "      <td>8.461337e-17</td>\n",
       "      <td>-6.627203e-16</td>\n",
       "      <td>-0.064801</td>\n",
       "    </tr>\n",
       "    <tr>\n",
       "      <th>V23</th>\n",
       "      <td>0.051142</td>\n",
       "      <td>6.168652e-16</td>\n",
       "      <td>1.634231e-16</td>\n",
       "      <td>-4.983035e-16</td>\n",
       "      <td>9.164206e-17</td>\n",
       "      <td>-8.428683e-18</td>\n",
       "      <td>1.046712e-16</td>\n",
       "      <td>-4.387401e-16</td>\n",
       "      <td>6.377260e-17</td>\n",
       "      <td>-5.214137e-16</td>\n",
       "      <td>3.214491e-16</td>\n",
       "      <td>-4.505332e-16</td>\n",
       "      <td>1.800885e-16</td>\n",
       "      <td>-7.132064e-16</td>\n",
       "      <td>3.883204e-16</td>\n",
       "      <td>-3.912243e-16</td>\n",
       "      <td>5.020770e-16</td>\n",
       "      <td>3.706214e-16</td>\n",
       "      <td>-1.912006e-16</td>\n",
       "      <td>7.032035e-16</td>\n",
       "      <td>2.712885e-16</td>\n",
       "      <td>8.119580e-16</td>\n",
       "      <td>-7.303916e-17</td>\n",
       "      <td>1.000000e+00</td>\n",
       "      <td>2.130519e-17</td>\n",
       "      <td>-8.232727e-17</td>\n",
       "      <td>1.114524e-15</td>\n",
       "      <td>2.839721e-16</td>\n",
       "      <td>1.481903e-15</td>\n",
       "      <td>-0.112633</td>\n",
       "    </tr>\n",
       "    <tr>\n",
       "      <th>V24</th>\n",
       "      <td>-0.016182</td>\n",
       "      <td>-4.425156e-17</td>\n",
       "      <td>1.247925e-17</td>\n",
       "      <td>2.686834e-19</td>\n",
       "      <td>1.584638e-16</td>\n",
       "      <td>-1.149255e-15</td>\n",
       "      <td>-1.071589e-15</td>\n",
       "      <td>7.434913e-18</td>\n",
       "      <td>-1.047097e-16</td>\n",
       "      <td>-1.430343e-16</td>\n",
       "      <td>-1.355885e-16</td>\n",
       "      <td>1.933267e-15</td>\n",
       "      <td>4.436512e-16</td>\n",
       "      <td>-1.397470e-16</td>\n",
       "      <td>2.003482e-16</td>\n",
       "      <td>-4.478263e-16</td>\n",
       "      <td>-3.005985e-16</td>\n",
       "      <td>-2.403828e-16</td>\n",
       "      <td>-8.986916e-17</td>\n",
       "      <td>2.587708e-17</td>\n",
       "      <td>1.277215e-16</td>\n",
       "      <td>1.761054e-16</td>\n",
       "      <td>9.970809e-17</td>\n",
       "      <td>2.130519e-17</td>\n",
       "      <td>1.000000e+00</td>\n",
       "      <td>1.015391e-15</td>\n",
       "      <td>1.343722e-16</td>\n",
       "      <td>-2.274142e-16</td>\n",
       "      <td>-2.819805e-16</td>\n",
       "      <td>0.005146</td>\n",
       "    </tr>\n",
       "    <tr>\n",
       "      <th>V25</th>\n",
       "      <td>-0.233083</td>\n",
       "      <td>-9.605737e-16</td>\n",
       "      <td>-4.478846e-16</td>\n",
       "      <td>-1.104734e-15</td>\n",
       "      <td>6.070716e-16</td>\n",
       "      <td>4.808532e-16</td>\n",
       "      <td>4.562861e-16</td>\n",
       "      <td>-3.094082e-16</td>\n",
       "      <td>-4.653279e-16</td>\n",
       "      <td>6.757763e-16</td>\n",
       "      <td>-2.846052e-16</td>\n",
       "      <td>-5.600475e-16</td>\n",
       "      <td>-5.712973e-16</td>\n",
       "      <td>-5.497612e-16</td>\n",
       "      <td>-8.547932e-16</td>\n",
       "      <td>3.206423e-16</td>\n",
       "      <td>-1.345418e-15</td>\n",
       "      <td>2.666806e-16</td>\n",
       "      <td>-6.629212e-17</td>\n",
       "      <td>9.577163e-16</td>\n",
       "      <td>1.410054e-16</td>\n",
       "      <td>-1.686082e-16</td>\n",
       "      <td>-5.018575e-16</td>\n",
       "      <td>-8.232727e-17</td>\n",
       "      <td>1.015391e-15</td>\n",
       "      <td>1.000000e+00</td>\n",
       "      <td>2.646517e-15</td>\n",
       "      <td>-6.406679e-16</td>\n",
       "      <td>-7.008939e-16</td>\n",
       "      <td>-0.047837</td>\n",
       "    </tr>\n",
       "    <tr>\n",
       "      <th>V26</th>\n",
       "      <td>-0.041407</td>\n",
       "      <td>-1.581290e-17</td>\n",
       "      <td>2.057310e-16</td>\n",
       "      <td>-1.238062e-16</td>\n",
       "      <td>-4.247268e-16</td>\n",
       "      <td>4.319541e-16</td>\n",
       "      <td>-1.357067e-16</td>\n",
       "      <td>-9.657637e-16</td>\n",
       "      <td>-1.727276e-16</td>\n",
       "      <td>-7.888853e-16</td>\n",
       "      <td>-3.028119e-16</td>\n",
       "      <td>-1.003221e-16</td>\n",
       "      <td>-2.359969e-16</td>\n",
       "      <td>-1.769255e-16</td>\n",
       "      <td>-1.660327e-16</td>\n",
       "      <td>2.817791e-16</td>\n",
       "      <td>-7.290010e-16</td>\n",
       "      <td>6.932833e-16</td>\n",
       "      <td>2.990167e-16</td>\n",
       "      <td>5.898033e-16</td>\n",
       "      <td>-2.803504e-16</td>\n",
       "      <td>-5.557329e-16</td>\n",
       "      <td>-2.503187e-17</td>\n",
       "      <td>1.114524e-15</td>\n",
       "      <td>1.343722e-16</td>\n",
       "      <td>2.646517e-15</td>\n",
       "      <td>1.000000e+00</td>\n",
       "      <td>-3.667715e-16</td>\n",
       "      <td>-2.782204e-16</td>\n",
       "      <td>-0.003208</td>\n",
       "    </tr>\n",
       "    <tr>\n",
       "      <th>V27</th>\n",
       "      <td>-0.005135</td>\n",
       "      <td>1.198124e-16</td>\n",
       "      <td>-4.966953e-16</td>\n",
       "      <td>1.045747e-15</td>\n",
       "      <td>3.977061e-17</td>\n",
       "      <td>6.590482e-16</td>\n",
       "      <td>-4.452461e-16</td>\n",
       "      <td>-1.782106e-15</td>\n",
       "      <td>1.299943e-16</td>\n",
       "      <td>-6.709655e-17</td>\n",
       "      <td>-2.197977e-16</td>\n",
       "      <td>-2.640281e-16</td>\n",
       "      <td>-4.672391e-16</td>\n",
       "      <td>-4.720898e-16</td>\n",
       "      <td>1.044274e-16</td>\n",
       "      <td>-1.143519e-15</td>\n",
       "      <td>6.789513e-16</td>\n",
       "      <td>6.148525e-16</td>\n",
       "      <td>2.242791e-16</td>\n",
       "      <td>-2.959370e-16</td>\n",
       "      <td>-1.138829e-15</td>\n",
       "      <td>-1.211281e-15</td>\n",
       "      <td>8.461337e-17</td>\n",
       "      <td>2.839721e-16</td>\n",
       "      <td>-2.274142e-16</td>\n",
       "      <td>-6.406679e-16</td>\n",
       "      <td>-3.667715e-16</td>\n",
       "      <td>1.000000e+00</td>\n",
       "      <td>-3.061287e-16</td>\n",
       "      <td>0.028825</td>\n",
       "    </tr>\n",
       "    <tr>\n",
       "      <th>V28</th>\n",
       "      <td>-0.009413</td>\n",
       "      <td>2.083082e-15</td>\n",
       "      <td>-5.093836e-16</td>\n",
       "      <td>9.775546e-16</td>\n",
       "      <td>-2.761403e-18</td>\n",
       "      <td>-5.613951e-18</td>\n",
       "      <td>2.594754e-16</td>\n",
       "      <td>-2.776530e-16</td>\n",
       "      <td>-6.200930e-16</td>\n",
       "      <td>1.110541e-15</td>\n",
       "      <td>4.864782e-17</td>\n",
       "      <td>-3.792314e-16</td>\n",
       "      <td>6.415167e-16</td>\n",
       "      <td>1.144372e-15</td>\n",
       "      <td>2.289427e-15</td>\n",
       "      <td>-1.194130e-15</td>\n",
       "      <td>7.588849e-16</td>\n",
       "      <td>-5.534540e-17</td>\n",
       "      <td>7.976796e-16</td>\n",
       "      <td>-1.405379e-15</td>\n",
       "      <td>-2.436795e-16</td>\n",
       "      <td>5.278775e-16</td>\n",
       "      <td>-6.627203e-16</td>\n",
       "      <td>1.481903e-15</td>\n",
       "      <td>-2.819805e-16</td>\n",
       "      <td>-7.008939e-16</td>\n",
       "      <td>-2.782204e-16</td>\n",
       "      <td>-3.061287e-16</td>\n",
       "      <td>1.000000e+00</td>\n",
       "      <td>0.010258</td>\n",
       "    </tr>\n",
       "    <tr>\n",
       "      <th>Amount</th>\n",
       "      <td>-0.010596</td>\n",
       "      <td>-2.277087e-01</td>\n",
       "      <td>-5.314089e-01</td>\n",
       "      <td>-2.108805e-01</td>\n",
       "      <td>9.873167e-02</td>\n",
       "      <td>-3.863563e-01</td>\n",
       "      <td>2.159812e-01</td>\n",
       "      <td>3.973113e-01</td>\n",
       "      <td>-1.030791e-01</td>\n",
       "      <td>-4.424560e-02</td>\n",
       "      <td>-1.015021e-01</td>\n",
       "      <td>1.039770e-04</td>\n",
       "      <td>-9.541802e-03</td>\n",
       "      <td>5.293409e-03</td>\n",
       "      <td>3.375117e-02</td>\n",
       "      <td>-2.985848e-03</td>\n",
       "      <td>-3.909527e-03</td>\n",
       "      <td>7.309042e-03</td>\n",
       "      <td>3.565034e-02</td>\n",
       "      <td>-5.615079e-02</td>\n",
       "      <td>3.394034e-01</td>\n",
       "      <td>1.059989e-01</td>\n",
       "      <td>-6.480065e-02</td>\n",
       "      <td>-1.126326e-01</td>\n",
       "      <td>5.146217e-03</td>\n",
       "      <td>-4.783686e-02</td>\n",
       "      <td>-3.208037e-03</td>\n",
       "      <td>2.882546e-02</td>\n",
       "      <td>1.025822e-02</td>\n",
       "      <td>1.000000</td>\n",
       "    </tr>\n",
       "  </tbody>\n",
       "</table>\n",
       "</div>"
      ],
      "text/plain": [
       "            Time            V1            V2            V3            V4  \\\n",
       "Time    1.000000  1.173963e-01 -1.059333e-02 -4.196182e-01 -1.052602e-01   \n",
       "V1      0.117396  1.000000e+00  4.135835e-16 -1.227819e-15 -9.215150e-16   \n",
       "V2     -0.010593  4.135835e-16  1.000000e+00  3.243764e-16 -1.121065e-15   \n",
       "V3     -0.419618 -1.227819e-15  3.243764e-16  1.000000e+00  4.711293e-16   \n",
       "V4     -0.105260 -9.215150e-16 -1.121065e-15  4.711293e-16  1.000000e+00   \n",
       "V5      0.173072  1.812612e-17  5.157519e-16 -6.539009e-17 -1.719944e-15   \n",
       "V6     -0.063016 -6.506567e-16  2.787346e-16  1.627627e-15 -7.491959e-16   \n",
       "V7      0.084714 -1.005191e-15  2.055934e-16  4.895305e-16 -4.104503e-16   \n",
       "V8     -0.036949 -2.433822e-16 -5.377041e-17 -1.268779e-15  5.697192e-16   \n",
       "V9     -0.008660 -1.513678e-16  1.978488e-17  5.568367e-16  6.923247e-16   \n",
       "V10     0.030617  7.388135e-17 -3.991394e-16  1.156587e-15  2.232685e-16   \n",
       "V11    -0.247689  2.125498e-16  1.975426e-16  1.576830e-15  3.459380e-16   \n",
       "V12     0.124348  2.053457e-16 -9.568710e-17  6.310231e-16 -5.625518e-16   \n",
       "V13    -0.065902 -2.425603e-17  6.295388e-16  2.807652e-16  1.303306e-16   \n",
       "V14    -0.098757 -5.020280e-16 -1.730566e-16  4.739859e-16  2.282280e-16   \n",
       "V15    -0.183453  3.547782e-16 -4.995814e-17  9.068793e-16  1.377649e-16   \n",
       "V16     0.011903  7.212815e-17  1.177316e-17  8.299445e-16 -9.614528e-16   \n",
       "V17    -0.073297 -3.879840e-16 -2.685296e-16  7.614712e-16 -2.699612e-16   \n",
       "V18     0.090438  3.230206e-17  3.284605e-16  1.509897e-16 -5.103644e-16   \n",
       "V19     0.028975  1.502024e-16 -7.118719e-18  3.463522e-16 -3.980557e-16   \n",
       "V20    -0.050866  4.654551e-16  2.506675e-16 -9.316409e-16 -1.857247e-16   \n",
       "V21     0.044736 -2.457409e-16 -8.480447e-17  5.706192e-17 -1.949553e-16   \n",
       "V22     0.144059 -4.290944e-16  1.526333e-16 -1.133902e-15 -6.276051e-17   \n",
       "V23     0.051142  6.168652e-16  1.634231e-16 -4.983035e-16  9.164206e-17   \n",
       "V24    -0.016182 -4.425156e-17  1.247925e-17  2.686834e-19  1.584638e-16   \n",
       "V25    -0.233083 -9.605737e-16 -4.478846e-16 -1.104734e-15  6.070716e-16   \n",
       "V26    -0.041407 -1.581290e-17  2.057310e-16 -1.238062e-16 -4.247268e-16   \n",
       "V27    -0.005135  1.198124e-16 -4.966953e-16  1.045747e-15  3.977061e-17   \n",
       "V28    -0.009413  2.083082e-15 -5.093836e-16  9.775546e-16 -2.761403e-18   \n",
       "Amount -0.010596 -2.277087e-01 -5.314089e-01 -2.108805e-01  9.873167e-02   \n",
       "\n",
       "                  V5            V6            V7            V8            V9  \\\n",
       "Time    1.730721e-01 -6.301647e-02  8.471437e-02 -3.694943e-02 -8.660434e-03   \n",
       "V1      1.812612e-17 -6.506567e-16 -1.005191e-15 -2.433822e-16 -1.513678e-16   \n",
       "V2      5.157519e-16  2.787346e-16  2.055934e-16 -5.377041e-17  1.978488e-17   \n",
       "V3     -6.539009e-17  1.627627e-15  4.895305e-16 -1.268779e-15  5.568367e-16   \n",
       "V4     -1.719944e-15 -7.491959e-16 -4.104503e-16  5.697192e-16  6.923247e-16   \n",
       "V5      1.000000e+00  2.408382e-16  2.715541e-16  7.437229e-16  7.391702e-16   \n",
       "V6      2.408382e-16  1.000000e+00  1.191668e-16 -1.104219e-16  4.131207e-16   \n",
       "V7      2.715541e-16  1.191668e-16  1.000000e+00  3.344412e-16  1.122501e-15   \n",
       "V8      7.437229e-16 -1.104219e-16  3.344412e-16  1.000000e+00  4.356078e-16   \n",
       "V9      7.391702e-16  4.131207e-16  1.122501e-15  4.356078e-16  1.000000e+00   \n",
       "V10    -5.202306e-16  5.932243e-17 -7.492834e-17 -2.801370e-16 -4.642274e-16   \n",
       "V11     7.203963e-16  1.980503e-15  1.425248e-16  2.487043e-16  1.354680e-16   \n",
       "V12     7.412552e-16  2.375468e-16 -3.536655e-18  1.839891e-16 -1.079314e-15   \n",
       "V13     5.886991e-16 -1.211182e-16  1.266462e-17 -2.921856e-16  2.251072e-15   \n",
       "V14     6.565143e-16  2.621312e-16  2.607772e-16 -8.599156e-16  3.784757e-15   \n",
       "V15    -8.720275e-16 -1.531188e-15 -1.690540e-16  4.127777e-16 -1.051167e-15   \n",
       "V16     2.246261e-15  2.623672e-18  5.869302e-17 -5.254741e-16 -1.214086e-15   \n",
       "V17     1.281914e-16  2.015618e-16  2.177192e-16 -2.269549e-16  1.113695e-15   \n",
       "V18     5.308590e-16  1.223814e-16  7.604126e-17 -3.667974e-16  4.993240e-16   \n",
       "V19    -1.450421e-16 -1.865597e-16 -1.881008e-16 -3.875186e-16 -1.376135e-16   \n",
       "V20    -3.554057e-16 -1.858755e-16  9.379684e-16  2.033737e-16 -2.343720e-16   \n",
       "V21    -3.920976e-16  5.833316e-17 -2.027779e-16  3.892798e-16  1.936953e-16   \n",
       "V22     1.253751e-16 -4.705235e-19 -8.898922e-16  2.026927e-16 -7.071869e-16   \n",
       "V23    -8.428683e-18  1.046712e-16 -4.387401e-16  6.377260e-17 -5.214137e-16   \n",
       "V24    -1.149255e-15 -1.071589e-15  7.434913e-18 -1.047097e-16 -1.430343e-16   \n",
       "V25     4.808532e-16  4.562861e-16 -3.094082e-16 -4.653279e-16  6.757763e-16   \n",
       "V26     4.319541e-16 -1.357067e-16 -9.657637e-16 -1.727276e-16 -7.888853e-16   \n",
       "V27     6.590482e-16 -4.452461e-16 -1.782106e-15  1.299943e-16 -6.709655e-17   \n",
       "V28    -5.613951e-18  2.594754e-16 -2.776530e-16 -6.200930e-16  1.110541e-15   \n",
       "Amount -3.863563e-01  2.159812e-01  3.973113e-01 -1.030791e-01 -4.424560e-02   \n",
       "\n",
       "                 V10           V11           V12           V13           V14  \\\n",
       "Time    3.061663e-02 -2.476894e-01  1.243481e-01 -6.590202e-02 -9.875682e-02   \n",
       "V1      7.388135e-17  2.125498e-16  2.053457e-16 -2.425603e-17 -5.020280e-16   \n",
       "V2     -3.991394e-16  1.975426e-16 -9.568710e-17  6.295388e-16 -1.730566e-16   \n",
       "V3      1.156587e-15  1.576830e-15  6.310231e-16  2.807652e-16  4.739859e-16   \n",
       "V4      2.232685e-16  3.459380e-16 -5.625518e-16  1.303306e-16  2.282280e-16   \n",
       "V5     -5.202306e-16  7.203963e-16  7.412552e-16  5.886991e-16  6.565143e-16   \n",
       "V6      5.932243e-17  1.980503e-15  2.375468e-16 -1.211182e-16  2.621312e-16   \n",
       "V7     -7.492834e-17  1.425248e-16 -3.536655e-18  1.266462e-17  2.607772e-16   \n",
       "V8     -2.801370e-16  2.487043e-16  1.839891e-16 -2.921856e-16 -8.599156e-16   \n",
       "V9     -4.642274e-16  1.354680e-16 -1.079314e-15  2.251072e-15  3.784757e-15   \n",
       "V10     1.000000e+00 -4.622103e-16  1.771869e-15 -5.418460e-16  2.635936e-16   \n",
       "V11    -4.622103e-16  1.000000e+00  6.370789e-16  1.958377e-16  2.700918e-16   \n",
       "V12     1.771869e-15  6.370789e-16  1.000000e+00 -2.321486e-14  2.770714e-17   \n",
       "V13    -5.418460e-16  1.958377e-16 -2.321486e-14  1.000000e+00  2.161967e-15   \n",
       "V14     2.635936e-16  2.700918e-16  2.770714e-17  2.161967e-15  1.000000e+00   \n",
       "V15     5.786332e-16  1.332323e-15 -1.360416e-15  1.388143e-16 -3.808118e-17   \n",
       "V16     3.545450e-16  5.840590e-16  5.335134e-16  6.044197e-16 -1.439858e-15   \n",
       "V17     1.542955e-15  7.151185e-16  5.648453e-16  7.584436e-17  1.162529e-15   \n",
       "V18     3.902423e-16  1.440913e-16  3.036293e-17  4.157330e-16  1.642378e-15   \n",
       "V19     3.437633e-17 -7.389748e-16  1.469557e-16 -1.861400e-16  1.977020e-16   \n",
       "V20    -1.331556e-15 -1.481299e-16  3.430282e-16  5.623856e-18 -1.181342e-17   \n",
       "V21     1.177547e-15 -5.658364e-16  7.300527e-16  1.008461e-16 -3.356561e-16   \n",
       "V22    -6.418202e-16  7.772895e-16  1.644699e-16  6.747721e-17  3.740383e-16   \n",
       "V23     3.214491e-16 -4.505332e-16  1.800885e-16 -7.132064e-16  3.883204e-16   \n",
       "V24    -1.355885e-16  1.933267e-15  4.436512e-16 -1.397470e-16  2.003482e-16   \n",
       "V25    -2.846052e-16 -5.600475e-16 -5.712973e-16 -5.497612e-16 -8.547932e-16   \n",
       "V26    -3.028119e-16 -1.003221e-16 -2.359969e-16 -1.769255e-16 -1.660327e-16   \n",
       "V27    -2.197977e-16 -2.640281e-16 -4.672391e-16 -4.720898e-16  1.044274e-16   \n",
       "V28     4.864782e-17 -3.792314e-16  6.415167e-16  1.144372e-15  2.289427e-15   \n",
       "Amount -1.015021e-01  1.039770e-04 -9.541802e-03  5.293409e-03  3.375117e-02   \n",
       "\n",
       "                 V15           V16           V17           V18           V19  \\\n",
       "Time   -1.834533e-01  1.190287e-02 -7.329721e-02  9.043813e-02  2.897530e-02   \n",
       "V1      3.547782e-16  7.212815e-17 -3.879840e-16  3.230206e-17  1.502024e-16   \n",
       "V2     -4.995814e-17  1.177316e-17 -2.685296e-16  3.284605e-16 -7.118719e-18   \n",
       "V3      9.068793e-16  8.299445e-16  7.614712e-16  1.509897e-16  3.463522e-16   \n",
       "V4      1.377649e-16 -9.614528e-16 -2.699612e-16 -5.103644e-16 -3.980557e-16   \n",
       "V5     -8.720275e-16  2.246261e-15  1.281914e-16  5.308590e-16 -1.450421e-16   \n",
       "V6     -1.531188e-15  2.623672e-18  2.015618e-16  1.223814e-16 -1.865597e-16   \n",
       "V7     -1.690540e-16  5.869302e-17  2.177192e-16  7.604126e-17 -1.881008e-16   \n",
       "V8      4.127777e-16 -5.254741e-16 -2.269549e-16 -3.667974e-16 -3.875186e-16   \n",
       "V9     -1.051167e-15 -1.214086e-15  1.113695e-15  4.993240e-16 -1.376135e-16   \n",
       "V10     5.786332e-16  3.545450e-16  1.542955e-15  3.902423e-16  3.437633e-17   \n",
       "V11     1.332323e-15  5.840590e-16  7.151185e-16  1.440913e-16 -7.389748e-16   \n",
       "V12    -1.360416e-15  5.335134e-16  5.648453e-16  3.036293e-17  1.469557e-16   \n",
       "V13     1.388143e-16  6.044197e-16  7.584436e-17  4.157330e-16 -1.861400e-16   \n",
       "V14    -3.808118e-17 -1.439858e-15  1.162529e-15  1.642378e-15  1.977020e-16   \n",
       "V15     1.000000e+00  1.332390e-15  6.647712e-16  3.475832e-16 -1.483185e-15   \n",
       "V16     1.332390e-15  1.000000e+00  2.482413e-15 -2.420915e-15  1.307241e-15   \n",
       "V17     6.647712e-16  2.482413e-15  1.000000e+00 -4.894901e-15 -3.883099e-16   \n",
       "V18     3.475832e-16 -2.420915e-15 -4.894901e-15  1.000000e+00 -2.499138e-15   \n",
       "V19    -1.483185e-15  1.307241e-15 -3.883099e-16 -2.499138e-15  1.000000e+00   \n",
       "V20     4.300086e-16  5.176564e-16 -1.390308e-15 -3.711302e-16  2.614882e-16   \n",
       "V21     6.605263e-17 -4.715090e-16 -8.230527e-16 -9.408680e-16  5.115885e-16   \n",
       "V22    -4.208921e-16 -7.923387e-17 -8.743398e-16 -4.819365e-16 -1.163768e-15   \n",
       "V23    -3.912243e-16  5.020770e-16  3.706214e-16 -1.912006e-16  7.032035e-16   \n",
       "V24    -4.478263e-16 -3.005985e-16 -2.403828e-16 -8.986916e-17  2.587708e-17   \n",
       "V25     3.206423e-16 -1.345418e-15  2.666806e-16 -6.629212e-17  9.577163e-16   \n",
       "V26     2.817791e-16 -7.290010e-16  6.932833e-16  2.990167e-16  5.898033e-16   \n",
       "V27    -1.143519e-15  6.789513e-16  6.148525e-16  2.242791e-16 -2.959370e-16   \n",
       "V28    -1.194130e-15  7.588849e-16 -5.534540e-17  7.976796e-16 -1.405379e-15   \n",
       "Amount -2.985848e-03 -3.909527e-03  7.309042e-03  3.565034e-02 -5.615079e-02   \n",
       "\n",
       "                 V20           V21           V22           V23           V24  \\\n",
       "Time   -5.086602e-02  4.473573e-02  1.440591e-01  5.114236e-02 -1.618187e-02   \n",
       "V1      4.654551e-16 -2.457409e-16 -4.290944e-16  6.168652e-16 -4.425156e-17   \n",
       "V2      2.506675e-16 -8.480447e-17  1.526333e-16  1.634231e-16  1.247925e-17   \n",
       "V3     -9.316409e-16  5.706192e-17 -1.133902e-15 -4.983035e-16  2.686834e-19   \n",
       "V4     -1.857247e-16 -1.949553e-16 -6.276051e-17  9.164206e-17  1.584638e-16   \n",
       "V5     -3.554057e-16 -3.920976e-16  1.253751e-16 -8.428683e-18 -1.149255e-15   \n",
       "V6     -1.858755e-16  5.833316e-17 -4.705235e-19  1.046712e-16 -1.071589e-15   \n",
       "V7      9.379684e-16 -2.027779e-16 -8.898922e-16 -4.387401e-16  7.434913e-18   \n",
       "V8      2.033737e-16  3.892798e-16  2.026927e-16  6.377260e-17 -1.047097e-16   \n",
       "V9     -2.343720e-16  1.936953e-16 -7.071869e-16 -5.214137e-16 -1.430343e-16   \n",
       "V10    -1.331556e-15  1.177547e-15 -6.418202e-16  3.214491e-16 -1.355885e-16   \n",
       "V11    -1.481299e-16 -5.658364e-16  7.772895e-16 -4.505332e-16  1.933267e-15   \n",
       "V12     3.430282e-16  7.300527e-16  1.644699e-16  1.800885e-16  4.436512e-16   \n",
       "V13     5.623856e-18  1.008461e-16  6.747721e-17 -7.132064e-16 -1.397470e-16   \n",
       "V14    -1.181342e-17 -3.356561e-16  3.740383e-16  3.883204e-16  2.003482e-16   \n",
       "V15     4.300086e-16  6.605263e-17 -4.208921e-16 -3.912243e-16 -4.478263e-16   \n",
       "V16     5.176564e-16 -4.715090e-16 -7.923387e-17  5.020770e-16 -3.005985e-16   \n",
       "V17    -1.390308e-15 -8.230527e-16 -8.743398e-16  3.706214e-16 -2.403828e-16   \n",
       "V18    -3.711302e-16 -9.408680e-16 -4.819365e-16 -1.912006e-16 -8.986916e-17   \n",
       "V19     2.614882e-16  5.115885e-16 -1.163768e-15  7.032035e-16  2.587708e-17   \n",
       "V20     1.000000e+00 -7.614597e-16  1.009285e-15  2.712885e-16  1.277215e-16   \n",
       "V21    -7.614597e-16  1.000000e+00  3.649908e-15  8.119580e-16  1.761054e-16   \n",
       "V22     1.009285e-15  3.649908e-15  1.000000e+00 -7.303916e-17  9.970809e-17   \n",
       "V23     2.712885e-16  8.119580e-16 -7.303916e-17  1.000000e+00  2.130519e-17   \n",
       "V24     1.277215e-16  1.761054e-16  9.970809e-17  2.130519e-17  1.000000e+00   \n",
       "V25     1.410054e-16 -1.686082e-16 -5.018575e-16 -8.232727e-17  1.015391e-15   \n",
       "V26    -2.803504e-16 -5.557329e-16 -2.503187e-17  1.114524e-15  1.343722e-16   \n",
       "V27    -1.138829e-15 -1.211281e-15  8.461337e-17  2.839721e-16 -2.274142e-16   \n",
       "V28    -2.436795e-16  5.278775e-16 -6.627203e-16  1.481903e-15 -2.819805e-16   \n",
       "Amount  3.394034e-01  1.059989e-01 -6.480065e-02 -1.126326e-01  5.146217e-03   \n",
       "\n",
       "                 V25           V26           V27           V28    Amount  \n",
       "Time   -2.330828e-01 -4.140710e-02 -5.134591e-03 -9.412688e-03 -0.010596  \n",
       "V1     -9.605737e-16 -1.581290e-17  1.198124e-16  2.083082e-15 -0.227709  \n",
       "V2     -4.478846e-16  2.057310e-16 -4.966953e-16 -5.093836e-16 -0.531409  \n",
       "V3     -1.104734e-15 -1.238062e-16  1.045747e-15  9.775546e-16 -0.210880  \n",
       "V4      6.070716e-16 -4.247268e-16  3.977061e-17 -2.761403e-18  0.098732  \n",
       "V5      4.808532e-16  4.319541e-16  6.590482e-16 -5.613951e-18 -0.386356  \n",
       "V6      4.562861e-16 -1.357067e-16 -4.452461e-16  2.594754e-16  0.215981  \n",
       "V7     -3.094082e-16 -9.657637e-16 -1.782106e-15 -2.776530e-16  0.397311  \n",
       "V8     -4.653279e-16 -1.727276e-16  1.299943e-16 -6.200930e-16 -0.103079  \n",
       "V9      6.757763e-16 -7.888853e-16 -6.709655e-17  1.110541e-15 -0.044246  \n",
       "V10    -2.846052e-16 -3.028119e-16 -2.197977e-16  4.864782e-17 -0.101502  \n",
       "V11    -5.600475e-16 -1.003221e-16 -2.640281e-16 -3.792314e-16  0.000104  \n",
       "V12    -5.712973e-16 -2.359969e-16 -4.672391e-16  6.415167e-16 -0.009542  \n",
       "V13    -5.497612e-16 -1.769255e-16 -4.720898e-16  1.144372e-15  0.005293  \n",
       "V14    -8.547932e-16 -1.660327e-16  1.044274e-16  2.289427e-15  0.033751  \n",
       "V15     3.206423e-16  2.817791e-16 -1.143519e-15 -1.194130e-15 -0.002986  \n",
       "V16    -1.345418e-15 -7.290010e-16  6.789513e-16  7.588849e-16 -0.003910  \n",
       "V17     2.666806e-16  6.932833e-16  6.148525e-16 -5.534540e-17  0.007309  \n",
       "V18    -6.629212e-17  2.990167e-16  2.242791e-16  7.976796e-16  0.035650  \n",
       "V19     9.577163e-16  5.898033e-16 -2.959370e-16 -1.405379e-15 -0.056151  \n",
       "V20     1.410054e-16 -2.803504e-16 -1.138829e-15 -2.436795e-16  0.339403  \n",
       "V21    -1.686082e-16 -5.557329e-16 -1.211281e-15  5.278775e-16  0.105999  \n",
       "V22    -5.018575e-16 -2.503187e-17  8.461337e-17 -6.627203e-16 -0.064801  \n",
       "V23    -8.232727e-17  1.114524e-15  2.839721e-16  1.481903e-15 -0.112633  \n",
       "V24     1.015391e-15  1.343722e-16 -2.274142e-16 -2.819805e-16  0.005146  \n",
       "V25     1.000000e+00  2.646517e-15 -6.406679e-16 -7.008939e-16 -0.047837  \n",
       "V26     2.646517e-15  1.000000e+00 -3.667715e-16 -2.782204e-16 -0.003208  \n",
       "V27    -6.406679e-16 -3.667715e-16  1.000000e+00 -3.061287e-16  0.028825  \n",
       "V28    -7.008939e-16 -2.782204e-16 -3.061287e-16  1.000000e+00  0.010258  \n",
       "Amount -4.783686e-02 -3.208037e-03  2.882546e-02  1.025822e-02  1.000000  "
      ]
     },
     "execution_count": 14,
     "metadata": {},
     "output_type": "execute_result"
    }
   ],
   "source": [
    "### CORRELATION MATRIX\n",
    "# calculating correlation\n",
    "correlation = df[continuous_feature].dropna().corr()\n",
    "correlation"
   ]
  },
  {
   "cell_type": "code",
   "execution_count": 15,
   "id": "c55a39cd",
   "metadata": {},
   "outputs": [
    {
     "data": {
      "image/png": "[encoded data removed]",
      "text/plain": [
       "<Figure size 432x288 with 2 Axes>"
      ]
     },
     "metadata": {
      "needs_background": "light"
     },
     "output_type": "display_data"
    }
   ],
   "source": [
    "#heat map\n",
    "sns.heatmap(correlation)\n",
    "sns.set(rc = {'figure.figsize':(18,18)})\n",
    "plt.show()"
   ]
  },
  {
   "cell_type": "code",
   "execution_count": 16,
   "id": "6d8bb5f3",
   "metadata": {},
   "outputs": [],
   "source": [
    "#dividing the dataset into dependent and idependent features\n",
    "X = df[continuous_feature]\n",
    "y = df['Class']"
   ]
  },
  {
   "cell_type": "code",
   "execution_count": 17,
   "id": "491b7538",
   "metadata": {},
   "outputs": [
    {
     "data": {
      "text/plain": [
       "Index(['Time', 'V1', 'V2', 'V3', 'V4', 'V5', 'V6', 'V7', 'V8', 'V9', 'V10',\n",
       "       'V11', 'V12', 'V13', 'V14', 'V15', 'V16', 'V17', 'V18', 'V19', 'V20',\n",
       "       'V21', 'V22', 'V23', 'V24', 'V25', 'V26', 'V27', 'V28', 'Amount'],\n",
       "      dtype='object')"
      ]
     },
     "execution_count": 17,
     "metadata": {},
     "output_type": "execute_result"
    }
   ],
   "source": [
    "#continuous features\n",
    "df[continuous_feature].columns"
   ]
  },
  {
   "cell_type": "code",
   "execution_count": 18,
   "id": "e6e4db86",
   "metadata": {},
   "outputs": [
    {
     "data": {
      "text/html": [
       "<div>\n",
       "<style scoped>\n",
       "    .dataframe tbody tr th:only-of-type {\n",
       "        vertical-align: middle;\n",
       "    }\n",
       "\n",
       "    .dataframe tbody tr th {\n",
       "        vertical-align: top;\n",
       "    }\n",
       "\n",
       "    .dataframe thead th {\n",
       "        text-align: right;\n",
       "    }\n",
       "</style>\n",
       "<table border=\"1\" class=\"dataframe\">\n",
       "  <thead>\n",
       "    <tr style=\"text-align: right;\">\n",
       "      <th></th>\n",
       "      <th>Time</th>\n",
       "      <th>V1</th>\n",
       "      <th>V2</th>\n",
       "      <th>V3</th>\n",
       "      <th>V4</th>\n",
       "      <th>V5</th>\n",
       "      <th>V6</th>\n",
       "      <th>V7</th>\n",
       "      <th>V8</th>\n",
       "      <th>V9</th>\n",
       "      <th>V10</th>\n",
       "      <th>V11</th>\n",
       "      <th>V12</th>\n",
       "      <th>V13</th>\n",
       "      <th>V14</th>\n",
       "      <th>V15</th>\n",
       "      <th>V16</th>\n",
       "      <th>V17</th>\n",
       "      <th>V18</th>\n",
       "      <th>V19</th>\n",
       "      <th>V20</th>\n",
       "      <th>V21</th>\n",
       "      <th>V22</th>\n",
       "      <th>V23</th>\n",
       "      <th>V24</th>\n",
       "      <th>V25</th>\n",
       "      <th>V26</th>\n",
       "      <th>V27</th>\n",
       "      <th>V28</th>\n",
       "      <th>Amount</th>\n",
       "    </tr>\n",
       "  </thead>\n",
       "  <tbody>\n",
       "    <tr>\n",
       "      <th>0</th>\n",
       "      <td>0.0</td>\n",
       "      <td>-1.359807</td>\n",
       "      <td>-0.072781</td>\n",
       "      <td>2.536347</td>\n",
       "      <td>1.378155</td>\n",
       "      <td>-0.338321</td>\n",
       "      <td>0.462388</td>\n",
       "      <td>0.239599</td>\n",
       "      <td>0.098698</td>\n",
       "      <td>0.363787</td>\n",
       "      <td>0.090794</td>\n",
       "      <td>-0.551600</td>\n",
       "      <td>-0.617801</td>\n",
       "      <td>-0.991390</td>\n",
       "      <td>-0.311169</td>\n",
       "      <td>1.468177</td>\n",
       "      <td>-0.470401</td>\n",
       "      <td>0.207971</td>\n",
       "      <td>0.025791</td>\n",
       "      <td>0.403993</td>\n",
       "      <td>0.251412</td>\n",
       "      <td>-0.018307</td>\n",
       "      <td>0.277838</td>\n",
       "      <td>-0.110474</td>\n",
       "      <td>0.066928</td>\n",
       "      <td>0.128539</td>\n",
       "      <td>-0.189115</td>\n",
       "      <td>0.133558</td>\n",
       "      <td>-0.021053</td>\n",
       "      <td>149.62</td>\n",
       "    </tr>\n",
       "    <tr>\n",
       "      <th>1</th>\n",
       "      <td>0.0</td>\n",
       "      <td>1.191857</td>\n",
       "      <td>0.266151</td>\n",
       "      <td>0.166480</td>\n",
       "      <td>0.448154</td>\n",
       "      <td>0.060018</td>\n",
       "      <td>-0.082361</td>\n",
       "      <td>-0.078803</td>\n",
       "      <td>0.085102</td>\n",
       "      <td>-0.255425</td>\n",
       "      <td>-0.166974</td>\n",
       "      <td>1.612727</td>\n",
       "      <td>1.065235</td>\n",
       "      <td>0.489095</td>\n",
       "      <td>-0.143772</td>\n",
       "      <td>0.635558</td>\n",
       "      <td>0.463917</td>\n",
       "      <td>-0.114805</td>\n",
       "      <td>-0.183361</td>\n",
       "      <td>-0.145783</td>\n",
       "      <td>-0.069083</td>\n",
       "      <td>-0.225775</td>\n",
       "      <td>-0.638672</td>\n",
       "      <td>0.101288</td>\n",
       "      <td>-0.339846</td>\n",
       "      <td>0.167170</td>\n",
       "      <td>0.125895</td>\n",
       "      <td>-0.008983</td>\n",
       "      <td>0.014724</td>\n",
       "      <td>2.69</td>\n",
       "    </tr>\n",
       "    <tr>\n",
       "      <th>2</th>\n",
       "      <td>1.0</td>\n",
       "      <td>-1.358354</td>\n",
       "      <td>-1.340163</td>\n",
       "      <td>1.773209</td>\n",
       "      <td>0.379780</td>\n",
       "      <td>-0.503198</td>\n",
       "      <td>1.800499</td>\n",
       "      <td>0.791461</td>\n",
       "      <td>0.247676</td>\n",
       "      <td>-1.514654</td>\n",
       "      <td>0.207643</td>\n",
       "      <td>0.624501</td>\n",
       "      <td>0.066084</td>\n",
       "      <td>0.717293</td>\n",
       "      <td>-0.165946</td>\n",
       "      <td>2.345865</td>\n",
       "      <td>-2.890083</td>\n",
       "      <td>1.109969</td>\n",
       "      <td>-0.121359</td>\n",
       "      <td>-2.261857</td>\n",
       "      <td>0.524980</td>\n",
       "      <td>0.247998</td>\n",
       "      <td>0.771679</td>\n",
       "      <td>0.909412</td>\n",
       "      <td>-0.689281</td>\n",
       "      <td>-0.327642</td>\n",
       "      <td>-0.139097</td>\n",
       "      <td>-0.055353</td>\n",
       "      <td>-0.059752</td>\n",
       "      <td>378.66</td>\n",
       "    </tr>\n",
       "    <tr>\n",
       "      <th>3</th>\n",
       "      <td>1.0</td>\n",
       "      <td>-0.966272</td>\n",
       "      <td>-0.185226</td>\n",
       "      <td>1.792993</td>\n",
       "      <td>-0.863291</td>\n",
       "      <td>-0.010309</td>\n",
       "      <td>1.247203</td>\n",
       "      <td>0.237609</td>\n",
       "      <td>0.377436</td>\n",
       "      <td>-1.387024</td>\n",
       "      <td>-0.054952</td>\n",
       "      <td>-0.226487</td>\n",
       "      <td>0.178228</td>\n",
       "      <td>0.507757</td>\n",
       "      <td>-0.287924</td>\n",
       "      <td>-0.631418</td>\n",
       "      <td>-1.059647</td>\n",
       "      <td>-0.684093</td>\n",
       "      <td>1.965775</td>\n",
       "      <td>-1.232622</td>\n",
       "      <td>-0.208038</td>\n",
       "      <td>-0.108300</td>\n",
       "      <td>0.005274</td>\n",
       "      <td>-0.190321</td>\n",
       "      <td>-1.175575</td>\n",
       "      <td>0.647376</td>\n",
       "      <td>-0.221929</td>\n",
       "      <td>0.062723</td>\n",
       "      <td>0.061458</td>\n",
       "      <td>123.50</td>\n",
       "    </tr>\n",
       "    <tr>\n",
       "      <th>4</th>\n",
       "      <td>2.0</td>\n",
       "      <td>-1.158233</td>\n",
       "      <td>0.877737</td>\n",
       "      <td>1.548718</td>\n",
       "      <td>0.403034</td>\n",
       "      <td>-0.407193</td>\n",
       "      <td>0.095921</td>\n",
       "      <td>0.592941</td>\n",
       "      <td>-0.270533</td>\n",
       "      <td>0.817739</td>\n",
       "      <td>0.753074</td>\n",
       "      <td>-0.822843</td>\n",
       "      <td>0.538196</td>\n",
       "      <td>1.345852</td>\n",
       "      <td>-1.119670</td>\n",
       "      <td>0.175121</td>\n",
       "      <td>-0.451449</td>\n",
       "      <td>-0.237033</td>\n",
       "      <td>-0.038195</td>\n",
       "      <td>0.803487</td>\n",
       "      <td>0.408542</td>\n",
       "      <td>-0.009431</td>\n",
       "      <td>0.798278</td>\n",
       "      <td>-0.137458</td>\n",
       "      <td>0.141267</td>\n",
       "      <td>-0.206010</td>\n",
       "      <td>0.502292</td>\n",
       "      <td>0.219422</td>\n",
       "      <td>0.215153</td>\n",
       "      <td>69.99</td>\n",
       "    </tr>\n",
       "  </tbody>\n",
       "</table>\n",
       "</div>"
      ],
      "text/plain": [
       "   Time        V1        V2        V3        V4        V5        V6        V7  \\\n",
       "0   0.0 -1.359807 -0.072781  2.536347  1.378155 -0.338321  0.462388  0.239599   \n",
       "1   0.0  1.191857  0.266151  0.166480  0.448154  0.060018 -0.082361 -0.078803   \n",
       "2   1.0 -1.358354 -1.340163  1.773209  0.379780 -0.503198  1.800499  0.791461   \n",
       "3   1.0 -0.966272 -0.185226  1.792993 -0.863291 -0.010309  1.247203  0.237609   \n",
       "4   2.0 -1.158233  0.877737  1.548718  0.403034 -0.407193  0.095921  0.592941   \n",
       "\n",
       "         V8        V9       V10       V11       V12       V13       V14  \\\n",
       "0  0.098698  0.363787  0.090794 -0.551600 -0.617801 -0.991390 -0.311169   \n",
       "1  0.085102 -0.255425 -0.166974  1.612727  1.065235  0.489095 -0.143772   \n",
       "2  0.247676 -1.514654  0.207643  0.624501  0.066084  0.717293 -0.165946   \n",
       "3  0.377436 -1.387024 -0.054952 -0.226487  0.178228  0.507757 -0.287924   \n",
       "4 -0.270533  0.817739  0.753074 -0.822843  0.538196  1.345852 -1.119670   \n",
       "\n",
       "        V15       V16       V17       V18       V19       V20       V21  \\\n",
       "0  1.468177 -0.470401  0.207971  0.025791  0.403993  0.251412 -0.018307   \n",
       "1  0.635558  0.463917 -0.114805 -0.183361 -0.145783 -0.069083 -0.225775   \n",
       "2  2.345865 -2.890083  1.109969 -0.121359 -2.261857  0.524980  0.247998   \n",
       "3 -0.631418 -1.059647 -0.684093  1.965775 -1.232622 -0.208038 -0.108300   \n",
       "4  0.175121 -0.451449 -0.237033 -0.038195  0.803487  0.408542 -0.009431   \n",
       "\n",
       "        V22       V23       V24       V25       V26       V27       V28  \\\n",
       "0  0.277838 -0.110474  0.066928  0.128539 -0.189115  0.133558 -0.021053   \n",
       "1 -0.638672  0.101288 -0.339846  0.167170  0.125895 -0.008983  0.014724   \n",
       "2  0.771679  0.909412 -0.689281 -0.327642 -0.139097 -0.055353 -0.059752   \n",
       "3  0.005274 -0.190321 -1.175575  0.647376 -0.221929  0.062723  0.061458   \n",
       "4  0.798278 -0.137458  0.141267 -0.206010  0.502292  0.219422  0.215153   \n",
       "\n",
       "   Amount  \n",
       "0  149.62  \n",
       "1    2.69  \n",
       "2  378.66  \n",
       "3  123.50  \n",
       "4   69.99  "
      ]
     },
     "execution_count": 18,
     "metadata": {},
     "output_type": "execute_result"
    }
   ],
   "source": [
    "#first 5 records of the independent features\n",
    "X.head()"
   ]
  },
  {
   "cell_type": "code",
   "execution_count": 19,
   "id": "22c0c0c7",
   "metadata": {},
   "outputs": [
    {
     "data": {
      "text/plain": [
       "0    0\n",
       "1    0\n",
       "2    0\n",
       "3    0\n",
       "4    0\n",
       "Name: Class, dtype: int64"
      ]
     },
     "execution_count": 19,
     "metadata": {},
     "output_type": "execute_result"
    }
   ],
   "source": [
    "#first 5 records of the dependent feature\n",
    "y.head()"
   ]
  },
  {
   "cell_type": "code",
   "execution_count": 20,
   "id": "3a3e4010",
   "metadata": {},
   "outputs": [],
   "source": [
    "# Scalling the features\n",
    "from sklearn.preprocessing import StandardScaler\n",
    "std = StandardScaler()\n",
    "scale = std.fit_transform(X)"
   ]
  },
  {
   "cell_type": "code",
   "execution_count": 21,
   "id": "e87806ee",
   "metadata": {},
   "outputs": [],
   "source": [
    "# concatenating the scalling features\n",
    "data = pd.concat([df['Class'].reset_index(drop=True),\n",
    "                    pd.DataFrame(scale, columns=df[continuous_feature].columns)],\n",
    "                    axis=1)"
   ]
  },
  {
   "cell_type": "code",
   "execution_count": 22,
   "id": "0d05fdfb",
   "metadata": {},
   "outputs": [
    {
     "data": {
      "text/html": [
       "<div>\n",
       "<style scoped>\n",
       "    .dataframe tbody tr th:only-of-type {\n",
       "        vertical-align: middle;\n",
       "    }\n",
       "\n",
       "    .dataframe tbody tr th {\n",
       "        vertical-align: top;\n",
       "    }\n",
       "\n",
       "    .dataframe thead th {\n",
       "        text-align: right;\n",
       "    }\n",
       "</style>\n",
       "<table border=\"1\" class=\"dataframe\">\n",
       "  <thead>\n",
       "    <tr style=\"text-align: right;\">\n",
       "      <th></th>\n",
       "      <th>Class</th>\n",
       "      <th>Time</th>\n",
       "      <th>V1</th>\n",
       "      <th>V2</th>\n",
       "      <th>V3</th>\n",
       "      <th>V4</th>\n",
       "      <th>V5</th>\n",
       "      <th>V6</th>\n",
       "      <th>V7</th>\n",
       "      <th>V8</th>\n",
       "      <th>V9</th>\n",
       "      <th>V10</th>\n",
       "      <th>V11</th>\n",
       "      <th>V12</th>\n",
       "      <th>V13</th>\n",
       "      <th>V14</th>\n",
       "      <th>V15</th>\n",
       "      <th>V16</th>\n",
       "      <th>V17</th>\n",
       "      <th>V18</th>\n",
       "      <th>V19</th>\n",
       "      <th>V20</th>\n",
       "      <th>V21</th>\n",
       "      <th>V22</th>\n",
       "      <th>V23</th>\n",
       "      <th>V24</th>\n",
       "      <th>V25</th>\n",
       "      <th>V26</th>\n",
       "      <th>V27</th>\n",
       "      <th>V28</th>\n",
       "      <th>Amount</th>\n",
       "    </tr>\n",
       "  </thead>\n",
       "  <tbody>\n",
       "    <tr>\n",
       "      <th>0</th>\n",
       "      <td>0</td>\n",
       "      <td>-1.996583</td>\n",
       "      <td>-0.694242</td>\n",
       "      <td>-0.044075</td>\n",
       "      <td>1.672773</td>\n",
       "      <td>0.973366</td>\n",
       "      <td>-0.245117</td>\n",
       "      <td>0.347068</td>\n",
       "      <td>0.193679</td>\n",
       "      <td>0.082637</td>\n",
       "      <td>0.331128</td>\n",
       "      <td>0.083386</td>\n",
       "      <td>-0.540407</td>\n",
       "      <td>-0.618296</td>\n",
       "      <td>-0.996099</td>\n",
       "      <td>-0.324610</td>\n",
       "      <td>1.604014</td>\n",
       "      <td>-0.536833</td>\n",
       "      <td>0.244863</td>\n",
       "      <td>0.030770</td>\n",
       "      <td>0.496282</td>\n",
       "      <td>0.326118</td>\n",
       "      <td>-0.024923</td>\n",
       "      <td>0.382854</td>\n",
       "      <td>-0.176911</td>\n",
       "      <td>0.110507</td>\n",
       "      <td>0.246585</td>\n",
       "      <td>-0.392170</td>\n",
       "      <td>0.330892</td>\n",
       "      <td>-0.063781</td>\n",
       "      <td>0.244964</td>\n",
       "    </tr>\n",
       "    <tr>\n",
       "      <th>1</th>\n",
       "      <td>0</td>\n",
       "      <td>-1.996583</td>\n",
       "      <td>0.608496</td>\n",
       "      <td>0.161176</td>\n",
       "      <td>0.109797</td>\n",
       "      <td>0.316523</td>\n",
       "      <td>0.043483</td>\n",
       "      <td>-0.061820</td>\n",
       "      <td>-0.063700</td>\n",
       "      <td>0.071253</td>\n",
       "      <td>-0.232494</td>\n",
       "      <td>-0.153350</td>\n",
       "      <td>1.580003</td>\n",
       "      <td>1.066089</td>\n",
       "      <td>0.491418</td>\n",
       "      <td>-0.149982</td>\n",
       "      <td>0.694360</td>\n",
       "      <td>0.529434</td>\n",
       "      <td>-0.135170</td>\n",
       "      <td>-0.218763</td>\n",
       "      <td>-0.179086</td>\n",
       "      <td>-0.089611</td>\n",
       "      <td>-0.307377</td>\n",
       "      <td>-0.880077</td>\n",
       "      <td>0.162201</td>\n",
       "      <td>-0.561131</td>\n",
       "      <td>0.320694</td>\n",
       "      <td>0.261069</td>\n",
       "      <td>-0.022256</td>\n",
       "      <td>0.044608</td>\n",
       "      <td>-0.342475</td>\n",
       "    </tr>\n",
       "    <tr>\n",
       "      <th>2</th>\n",
       "      <td>0</td>\n",
       "      <td>-1.996562</td>\n",
       "      <td>-0.693500</td>\n",
       "      <td>-0.811578</td>\n",
       "      <td>1.169468</td>\n",
       "      <td>0.268231</td>\n",
       "      <td>-0.364572</td>\n",
       "      <td>1.351454</td>\n",
       "      <td>0.639776</td>\n",
       "      <td>0.207373</td>\n",
       "      <td>-1.378675</td>\n",
       "      <td>0.190700</td>\n",
       "      <td>0.611830</td>\n",
       "      <td>0.066137</td>\n",
       "      <td>0.720700</td>\n",
       "      <td>-0.173114</td>\n",
       "      <td>2.562906</td>\n",
       "      <td>-3.298235</td>\n",
       "      <td>1.306868</td>\n",
       "      <td>-0.144790</td>\n",
       "      <td>-2.778561</td>\n",
       "      <td>0.680975</td>\n",
       "      <td>0.337632</td>\n",
       "      <td>1.063358</td>\n",
       "      <td>1.456320</td>\n",
       "      <td>-1.138092</td>\n",
       "      <td>-0.628537</td>\n",
       "      <td>-0.288447</td>\n",
       "      <td>-0.137137</td>\n",
       "      <td>-0.181021</td>\n",
       "      <td>1.160686</td>\n",
       "    </tr>\n",
       "    <tr>\n",
       "      <th>3</th>\n",
       "      <td>0</td>\n",
       "      <td>-1.996562</td>\n",
       "      <td>-0.493325</td>\n",
       "      <td>-0.112169</td>\n",
       "      <td>1.182516</td>\n",
       "      <td>-0.609727</td>\n",
       "      <td>-0.007469</td>\n",
       "      <td>0.936150</td>\n",
       "      <td>0.192071</td>\n",
       "      <td>0.316018</td>\n",
       "      <td>-1.262503</td>\n",
       "      <td>-0.050468</td>\n",
       "      <td>-0.221892</td>\n",
       "      <td>0.178371</td>\n",
       "      <td>0.510169</td>\n",
       "      <td>-0.300360</td>\n",
       "      <td>-0.689837</td>\n",
       "      <td>-1.209296</td>\n",
       "      <td>-0.805445</td>\n",
       "      <td>2.345305</td>\n",
       "      <td>-1.514205</td>\n",
       "      <td>-0.269855</td>\n",
       "      <td>-0.147443</td>\n",
       "      <td>0.007267</td>\n",
       "      <td>-0.304777</td>\n",
       "      <td>-1.941027</td>\n",
       "      <td>1.241904</td>\n",
       "      <td>-0.460217</td>\n",
       "      <td>0.155396</td>\n",
       "      <td>0.186189</td>\n",
       "      <td>0.140534</td>\n",
       "    </tr>\n",
       "    <tr>\n",
       "      <th>4</th>\n",
       "      <td>0</td>\n",
       "      <td>-1.996541</td>\n",
       "      <td>-0.591330</td>\n",
       "      <td>0.531541</td>\n",
       "      <td>1.021412</td>\n",
       "      <td>0.284655</td>\n",
       "      <td>-0.295015</td>\n",
       "      <td>0.071999</td>\n",
       "      <td>0.479302</td>\n",
       "      <td>-0.226510</td>\n",
       "      <td>0.744326</td>\n",
       "      <td>0.691625</td>\n",
       "      <td>-0.806147</td>\n",
       "      <td>0.538627</td>\n",
       "      <td>1.352244</td>\n",
       "      <td>-1.168034</td>\n",
       "      <td>0.191323</td>\n",
       "      <td>-0.515205</td>\n",
       "      <td>-0.279081</td>\n",
       "      <td>-0.045569</td>\n",
       "      <td>0.987037</td>\n",
       "      <td>0.529939</td>\n",
       "      <td>-0.012839</td>\n",
       "      <td>1.100011</td>\n",
       "      <td>-0.220123</td>\n",
       "      <td>0.233250</td>\n",
       "      <td>-0.395202</td>\n",
       "      <td>1.041611</td>\n",
       "      <td>0.543620</td>\n",
       "      <td>0.651816</td>\n",
       "      <td>-0.073403</td>\n",
       "    </tr>\n",
       "  </tbody>\n",
       "</table>\n",
       "</div>"
      ],
      "text/plain": [
       "   Class      Time        V1        V2        V3        V4        V5  \\\n",
       "0      0 -1.996583 -0.694242 -0.044075  1.672773  0.973366 -0.245117   \n",
       "1      0 -1.996583  0.608496  0.161176  0.109797  0.316523  0.043483   \n",
       "2      0 -1.996562 -0.693500 -0.811578  1.169468  0.268231 -0.364572   \n",
       "3      0 -1.996562 -0.493325 -0.112169  1.182516 -0.609727 -0.007469   \n",
       "4      0 -1.996541 -0.591330  0.531541  1.021412  0.284655 -0.295015   \n",
       "\n",
       "         V6        V7        V8        V9       V10       V11       V12  \\\n",
       "0  0.347068  0.193679  0.082637  0.331128  0.083386 -0.540407 -0.618296   \n",
       "1 -0.061820 -0.063700  0.071253 -0.232494 -0.153350  1.580003  1.066089   \n",
       "2  1.351454  0.639776  0.207373 -1.378675  0.190700  0.611830  0.066137   \n",
       "3  0.936150  0.192071  0.316018 -1.262503 -0.050468 -0.221892  0.178371   \n",
       "4  0.071999  0.479302 -0.226510  0.744326  0.691625 -0.806147  0.538627   \n",
       "\n",
       "        V13       V14       V15       V16       V17       V18       V19  \\\n",
       "0 -0.996099 -0.324610  1.604014 -0.536833  0.244863  0.030770  0.496282   \n",
       "1  0.491418 -0.149982  0.694360  0.529434 -0.135170 -0.218763 -0.179086   \n",
       "2  0.720700 -0.173114  2.562906 -3.298235  1.306868 -0.144790 -2.778561   \n",
       "3  0.510169 -0.300360 -0.689837 -1.209296 -0.805445  2.345305 -1.514205   \n",
       "4  1.352244 -1.168034  0.191323 -0.515205 -0.279081 -0.045569  0.987037   \n",
       "\n",
       "        V20       V21       V22       V23       V24       V25       V26  \\\n",
       "0  0.326118 -0.024923  0.382854 -0.176911  0.110507  0.246585 -0.392170   \n",
       "1 -0.089611 -0.307377 -0.880077  0.162201 -0.561131  0.320694  0.261069   \n",
       "2  0.680975  0.337632  1.063358  1.456320 -1.138092 -0.628537 -0.288447   \n",
       "3 -0.269855 -0.147443  0.007267 -0.304777 -1.941027  1.241904 -0.460217   \n",
       "4  0.529939 -0.012839  1.100011 -0.220123  0.233250 -0.395202  1.041611   \n",
       "\n",
       "        V27       V28    Amount  \n",
       "0  0.330892 -0.063781  0.244964  \n",
       "1 -0.022256  0.044608 -0.342475  \n",
       "2 -0.137137 -0.181021  1.160686  \n",
       "3  0.155396  0.186189  0.140534  \n",
       "4  0.543620  0.651816 -0.073403  "
      ]
     },
     "execution_count": 22,
     "metadata": {},
     "output_type": "execute_result"
    }
   ],
   "source": [
    "# first 5 records of the dataset\n",
    "data.head()"
   ]
  },
  {
   "cell_type": "code",
   "execution_count": 23,
   "id": "5045246d",
   "metadata": {},
   "outputs": [],
   "source": [
    "# dividing the dataset into dependent and independent features\n",
    "y = data['Class']\n",
    "X = data.drop(['Class'], axis = 1)"
   ]
  },
  {
   "cell_type": "code",
   "execution_count": 24,
   "id": "80c11167",
   "metadata": {},
   "outputs": [
    {
     "data": {
      "text/html": [
       "<div>\n",
       "<style scoped>\n",
       "    .dataframe tbody tr th:only-of-type {\n",
       "        vertical-align: middle;\n",
       "    }\n",
       "\n",
       "    .dataframe tbody tr th {\n",
       "        vertical-align: top;\n",
       "    }\n",
       "\n",
       "    .dataframe thead th {\n",
       "        text-align: right;\n",
       "    }\n",
       "</style>\n",
       "<table border=\"1\" class=\"dataframe\">\n",
       "  <thead>\n",
       "    <tr style=\"text-align: right;\">\n",
       "      <th></th>\n",
       "      <th>Time</th>\n",
       "      <th>V1</th>\n",
       "      <th>V2</th>\n",
       "      <th>V3</th>\n",
       "      <th>V4</th>\n",
       "      <th>V5</th>\n",
       "      <th>V6</th>\n",
       "      <th>V7</th>\n",
       "      <th>V8</th>\n",
       "      <th>V9</th>\n",
       "      <th>V10</th>\n",
       "      <th>V11</th>\n",
       "      <th>V12</th>\n",
       "      <th>V13</th>\n",
       "      <th>V14</th>\n",
       "      <th>V15</th>\n",
       "      <th>V16</th>\n",
       "      <th>V17</th>\n",
       "      <th>V18</th>\n",
       "      <th>V19</th>\n",
       "      <th>V20</th>\n",
       "      <th>V21</th>\n",
       "      <th>V22</th>\n",
       "      <th>V23</th>\n",
       "      <th>V24</th>\n",
       "      <th>V25</th>\n",
       "      <th>V26</th>\n",
       "      <th>V27</th>\n",
       "      <th>V28</th>\n",
       "      <th>Amount</th>\n",
       "    </tr>\n",
       "  </thead>\n",
       "  <tbody>\n",
       "    <tr>\n",
       "      <th>0</th>\n",
       "      <td>-1.996583</td>\n",
       "      <td>-0.694242</td>\n",
       "      <td>-0.044075</td>\n",
       "      <td>1.672773</td>\n",
       "      <td>0.973366</td>\n",
       "      <td>-0.245117</td>\n",
       "      <td>0.347068</td>\n",
       "      <td>0.193679</td>\n",
       "      <td>0.082637</td>\n",
       "      <td>0.331128</td>\n",
       "      <td>0.083386</td>\n",
       "      <td>-0.540407</td>\n",
       "      <td>-0.618296</td>\n",
       "      <td>-0.996099</td>\n",
       "      <td>-0.324610</td>\n",
       "      <td>1.604014</td>\n",
       "      <td>-0.536833</td>\n",
       "      <td>0.244863</td>\n",
       "      <td>0.030770</td>\n",
       "      <td>0.496282</td>\n",
       "      <td>0.326118</td>\n",
       "      <td>-0.024923</td>\n",
       "      <td>0.382854</td>\n",
       "      <td>-0.176911</td>\n",
       "      <td>0.110507</td>\n",
       "      <td>0.246585</td>\n",
       "      <td>-0.392170</td>\n",
       "      <td>0.330892</td>\n",
       "      <td>-0.063781</td>\n",
       "      <td>0.244964</td>\n",
       "    </tr>\n",
       "    <tr>\n",
       "      <th>1</th>\n",
       "      <td>-1.996583</td>\n",
       "      <td>0.608496</td>\n",
       "      <td>0.161176</td>\n",
       "      <td>0.109797</td>\n",
       "      <td>0.316523</td>\n",
       "      <td>0.043483</td>\n",
       "      <td>-0.061820</td>\n",
       "      <td>-0.063700</td>\n",
       "      <td>0.071253</td>\n",
       "      <td>-0.232494</td>\n",
       "      <td>-0.153350</td>\n",
       "      <td>1.580003</td>\n",
       "      <td>1.066089</td>\n",
       "      <td>0.491418</td>\n",
       "      <td>-0.149982</td>\n",
       "      <td>0.694360</td>\n",
       "      <td>0.529434</td>\n",
       "      <td>-0.135170</td>\n",
       "      <td>-0.218763</td>\n",
       "      <td>-0.179086</td>\n",
       "      <td>-0.089611</td>\n",
       "      <td>-0.307377</td>\n",
       "      <td>-0.880077</td>\n",
       "      <td>0.162201</td>\n",
       "      <td>-0.561131</td>\n",
       "      <td>0.320694</td>\n",
       "      <td>0.261069</td>\n",
       "      <td>-0.022256</td>\n",
       "      <td>0.044608</td>\n",
       "      <td>-0.342475</td>\n",
       "    </tr>\n",
       "    <tr>\n",
       "      <th>2</th>\n",
       "      <td>-1.996562</td>\n",
       "      <td>-0.693500</td>\n",
       "      <td>-0.811578</td>\n",
       "      <td>1.169468</td>\n",
       "      <td>0.268231</td>\n",
       "      <td>-0.364572</td>\n",
       "      <td>1.351454</td>\n",
       "      <td>0.639776</td>\n",
       "      <td>0.207373</td>\n",
       "      <td>-1.378675</td>\n",
       "      <td>0.190700</td>\n",
       "      <td>0.611830</td>\n",
       "      <td>0.066137</td>\n",
       "      <td>0.720700</td>\n",
       "      <td>-0.173114</td>\n",
       "      <td>2.562906</td>\n",
       "      <td>-3.298235</td>\n",
       "      <td>1.306868</td>\n",
       "      <td>-0.144790</td>\n",
       "      <td>-2.778561</td>\n",
       "      <td>0.680975</td>\n",
       "      <td>0.337632</td>\n",
       "      <td>1.063358</td>\n",
       "      <td>1.456320</td>\n",
       "      <td>-1.138092</td>\n",
       "      <td>-0.628537</td>\n",
       "      <td>-0.288447</td>\n",
       "      <td>-0.137137</td>\n",
       "      <td>-0.181021</td>\n",
       "      <td>1.160686</td>\n",
       "    </tr>\n",
       "    <tr>\n",
       "      <th>3</th>\n",
       "      <td>-1.996562</td>\n",
       "      <td>-0.493325</td>\n",
       "      <td>-0.112169</td>\n",
       "      <td>1.182516</td>\n",
       "      <td>-0.609727</td>\n",
       "      <td>-0.007469</td>\n",
       "      <td>0.936150</td>\n",
       "      <td>0.192071</td>\n",
       "      <td>0.316018</td>\n",
       "      <td>-1.262503</td>\n",
       "      <td>-0.050468</td>\n",
       "      <td>-0.221892</td>\n",
       "      <td>0.178371</td>\n",
       "      <td>0.510169</td>\n",
       "      <td>-0.300360</td>\n",
       "      <td>-0.689837</td>\n",
       "      <td>-1.209296</td>\n",
       "      <td>-0.805445</td>\n",
       "      <td>2.345305</td>\n",
       "      <td>-1.514205</td>\n",
       "      <td>-0.269855</td>\n",
       "      <td>-0.147443</td>\n",
       "      <td>0.007267</td>\n",
       "      <td>-0.304777</td>\n",
       "      <td>-1.941027</td>\n",
       "      <td>1.241904</td>\n",
       "      <td>-0.460217</td>\n",
       "      <td>0.155396</td>\n",
       "      <td>0.186189</td>\n",
       "      <td>0.140534</td>\n",
       "    </tr>\n",
       "    <tr>\n",
       "      <th>4</th>\n",
       "      <td>-1.996541</td>\n",
       "      <td>-0.591330</td>\n",
       "      <td>0.531541</td>\n",
       "      <td>1.021412</td>\n",
       "      <td>0.284655</td>\n",
       "      <td>-0.295015</td>\n",
       "      <td>0.071999</td>\n",
       "      <td>0.479302</td>\n",
       "      <td>-0.226510</td>\n",
       "      <td>0.744326</td>\n",
       "      <td>0.691625</td>\n",
       "      <td>-0.806147</td>\n",
       "      <td>0.538627</td>\n",
       "      <td>1.352244</td>\n",
       "      <td>-1.168034</td>\n",
       "      <td>0.191323</td>\n",
       "      <td>-0.515205</td>\n",
       "      <td>-0.279081</td>\n",
       "      <td>-0.045569</td>\n",
       "      <td>0.987037</td>\n",
       "      <td>0.529939</td>\n",
       "      <td>-0.012839</td>\n",
       "      <td>1.100011</td>\n",
       "      <td>-0.220123</td>\n",
       "      <td>0.233250</td>\n",
       "      <td>-0.395202</td>\n",
       "      <td>1.041611</td>\n",
       "      <td>0.543620</td>\n",
       "      <td>0.651816</td>\n",
       "      <td>-0.073403</td>\n",
       "    </tr>\n",
       "  </tbody>\n",
       "</table>\n",
       "</div>"
      ],
      "text/plain": [
       "       Time        V1        V2        V3        V4        V5        V6  \\\n",
       "0 -1.996583 -0.694242 -0.044075  1.672773  0.973366 -0.245117  0.347068   \n",
       "1 -1.996583  0.608496  0.161176  0.109797  0.316523  0.043483 -0.061820   \n",
       "2 -1.996562 -0.693500 -0.811578  1.169468  0.268231 -0.364572  1.351454   \n",
       "3 -1.996562 -0.493325 -0.112169  1.182516 -0.609727 -0.007469  0.936150   \n",
       "4 -1.996541 -0.591330  0.531541  1.021412  0.284655 -0.295015  0.071999   \n",
       "\n",
       "         V7        V8        V9       V10       V11       V12       V13  \\\n",
       "0  0.193679  0.082637  0.331128  0.083386 -0.540407 -0.618296 -0.996099   \n",
       "1 -0.063700  0.071253 -0.232494 -0.153350  1.580003  1.066089  0.491418   \n",
       "2  0.639776  0.207373 -1.378675  0.190700  0.611830  0.066137  0.720700   \n",
       "3  0.192071  0.316018 -1.262503 -0.050468 -0.221892  0.178371  0.510169   \n",
       "4  0.479302 -0.226510  0.744326  0.691625 -0.806147  0.538627  1.352244   \n",
       "\n",
       "        V14       V15       V16       V17       V18       V19       V20  \\\n",
       "0 -0.324610  1.604014 -0.536833  0.244863  0.030770  0.496282  0.326118   \n",
       "1 -0.149982  0.694360  0.529434 -0.135170 -0.218763 -0.179086 -0.089611   \n",
       "2 -0.173114  2.562906 -3.298235  1.306868 -0.144790 -2.778561  0.680975   \n",
       "3 -0.300360 -0.689837 -1.209296 -0.805445  2.345305 -1.514205 -0.269855   \n",
       "4 -1.168034  0.191323 -0.515205 -0.279081 -0.045569  0.987037  0.529939   \n",
       "\n",
       "        V21       V22       V23       V24       V25       V26       V27  \\\n",
       "0 -0.024923  0.382854 -0.176911  0.110507  0.246585 -0.392170  0.330892   \n",
       "1 -0.307377 -0.880077  0.162201 -0.561131  0.320694  0.261069 -0.022256   \n",
       "2  0.337632  1.063358  1.456320 -1.138092 -0.628537 -0.288447 -0.137137   \n",
       "3 -0.147443  0.007267 -0.304777 -1.941027  1.241904 -0.460217  0.155396   \n",
       "4 -0.012839  1.100011 -0.220123  0.233250 -0.395202  1.041611  0.543620   \n",
       "\n",
       "        V28    Amount  \n",
       "0 -0.063781  0.244964  \n",
       "1  0.044608 -0.342475  \n",
       "2 -0.181021  1.160686  \n",
       "3  0.186189  0.140534  \n",
       "4  0.651816 -0.073403  "
      ]
     },
     "execution_count": 24,
     "metadata": {},
     "output_type": "execute_result"
    }
   ],
   "source": [
    "# first 5 records\n",
    "X.head()"
   ]
  },
  {
   "cell_type": "code",
   "execution_count": 25,
   "id": "2ff78385",
   "metadata": {},
   "outputs": [],
   "source": [
    "# dividing the dataset into train test split\n",
    "from sklearn.model_selection import train_test_split\n",
    "X_train, X_test, y_train, y_test = train_test_split(\n",
    " X, y, test_size=0.33, random_state=42) "
   ]
  },
  {
   "cell_type": "markdown",
   "id": "4361b9d0",
   "metadata": {},
   "source": [
    "# logistic Regression"
   ]
  },
  {
   "cell_type": "code",
   "execution_count": 26,
   "id": "c64da30e",
   "metadata": {},
   "outputs": [],
   "source": [
    "from sklearn.linear_model import LogisticRegression\n",
    "from sklearn.metrics import accuracy_score,confusion_matrix,classification_report\n",
    "from sklearn.model_selection import KFold\n",
    "from sklearn.model_selection import GridSearchCV"
   ]
  },
  {
   "cell_type": "code",
   "execution_count": 27,
   "id": "f226f339",
   "metadata": {},
   "outputs": [],
   "source": [
    "log_class=LogisticRegression()\n",
    "grid={'C':10.0 **np.arange(-2,3),'penalty':['l1','l2']}\n",
    "cv=KFold(n_splits=5,random_state=None,shuffle=False)"
   ]
  },
  {
   "cell_type": "code",
   "execution_count": 28,
   "id": "da37a20c",
   "metadata": {},
   "outputs": [],
   "source": [
    "import warnings\n",
    "warnings.filterwarnings('ignore')"
   ]
  },
  {
   "cell_type": "code",
   "execution_count": 29,
   "id": "ac92a611",
   "metadata": {},
   "outputs": [
    {
     "data": {
      "text/plain": [
       "GridSearchCV(cv=KFold(n_splits=5, random_state=None, shuffle=False),\n",
       "             estimator=LogisticRegression(), n_jobs=-1,\n",
       "             param_grid={'C': array([1.e-02, 1.e-01, 1.e+00, 1.e+01, 1.e+02]),\n",
       "                         'penalty': ['l1', 'l2']},\n",
       "             scoring='f1_macro')"
      ]
     },
     "execution_count": 29,
     "metadata": {},
     "output_type": "execute_result"
    }
   ],
   "source": [
    "clf=GridSearchCV(log_class,grid,cv=cv,n_jobs=-1,scoring='f1_macro')\n",
    "clf.fit(X_train,y_train)"
   ]
  },
  {
   "cell_type": "markdown",
   "id": "59e44f86",
   "metadata": {},
   "source": [
    "# Confusion Matrix"
   ]
  },
  {
   "cell_type": "code",
   "execution_count": 30,
   "id": "6fda2ebb",
   "metadata": {},
   "outputs": [
    {
     "name": "stdout",
     "output_type": "stream",
     "text": [
      "[[93824    14]\n",
      " [   54    95]]\n",
      "0.9992764956855735\n",
      "              precision    recall  f1-score   support\n",
      "\n",
      "           0       1.00      1.00      1.00     93838\n",
      "           1       0.87      0.64      0.74       149\n",
      "\n",
      "    accuracy                           1.00     93987\n",
      "   macro avg       0.94      0.82      0.87     93987\n",
      "weighted avg       1.00      1.00      1.00     93987\n",
      "\n"
     ]
    }
   ],
   "source": [
    "y_pred=clf.predict(X_test)\n",
    "print(confusion_matrix(y_test,y_pred))\n",
    "print(accuracy_score(y_test,y_pred))\n",
    "print(classification_report(y_test,y_pred))"
   ]
  },
  {
   "cell_type": "markdown",
   "id": "81f11865",
   "metadata": {},
   "source": [
    "## AUC-ROC curve"
   ]
  },
  {
   "cell_type": "code",
   "execution_count": 31,
   "id": "c412d580",
   "metadata": {},
   "outputs": [
    {
     "data": {
      "image/png": "[encoded data removed]",
      "text/plain": [
       "<Figure size 864x576 with 1 Axes>"
      ]
     },
     "metadata": {},
     "output_type": "display_data"
    }
   ],
   "source": [
    "from sklearn.metrics import roc_curve\n",
    "from sklearn.metrics import roc_auc_score\n",
    "fpr, tpr, _ = roc_curve(y_test,y_pred) \n",
    "auc = roc_auc_score(y_test,y_pred) \n",
    "plt.figure(figsize=(12,8)) \n",
    "plt.plot(fpr,tpr,label=\"Validation AUC-ROC=\"+str(auc)) \n",
    "x = np.linspace(0, 1, 1000)\n",
    "plt.plot(x, x, linestyle='-')\n",
    "plt.xlabel('False Positive Rate') \n",
    "plt.ylabel('True Positive Rate') \n",
    "plt.legend(loc=4) \n",
    "plt.show()"
   ]
  },
  {
   "cell_type": "code",
   "execution_count": 32,
   "id": "e15874d8",
   "metadata": {},
   "outputs": [
    {
     "data": {
      "text/plain": [
       "0    190477\n",
       "1       343\n",
       "Name: Class, dtype: int64"
      ]
     },
     "execution_count": 32,
     "metadata": {},
     "output_type": "execute_result"
    }
   ],
   "source": [
    "# Actual values\n",
    "y_train.value_counts()"
   ]
  },
  {
   "cell_type": "code",
   "execution_count": 33,
   "id": "2d6b3467",
   "metadata": {},
   "outputs": [],
   "source": [
    "#Converting 0's in same count and 1's in 350 times actual count\n",
    "class_weight=dict({0:1,1:350})"
   ]
  },
  {
   "cell_type": "markdown",
   "id": "5f99690c",
   "metadata": {},
   "source": [
    "### Random Forest Classifier"
   ]
  },
  {
   "cell_type": "code",
   "execution_count": 34,
   "id": "297ecbbb",
   "metadata": {},
   "outputs": [
    {
     "data": {
      "text/plain": [
       "RandomForestClassifier(class_weight={0: 1, 1: 350})"
      ]
     },
     "execution_count": 34,
     "metadata": {},
     "output_type": "execute_result"
    }
   ],
   "source": [
    "from sklearn.ensemble import RandomForestClassifier\n",
    "classifier=RandomForestClassifier(class_weight=class_weight)\n",
    "classifier.fit(X_train,y_train)"
   ]
  },
  {
   "cell_type": "markdown",
   "id": "59f599bc",
   "metadata": {},
   "source": [
    "## Confusion Matrix"
   ]
  },
  {
   "cell_type": "code",
   "execution_count": 35,
   "id": "cbbaefe2",
   "metadata": {},
   "outputs": [
    {
     "name": "stdout",
     "output_type": "stream",
     "text": [
      "[[93834     4]\n",
      " [   35   114]]\n",
      "0.9995850489961378\n",
      "              precision    recall  f1-score   support\n",
      "\n",
      "           0       1.00      1.00      1.00     93838\n",
      "           1       0.97      0.77      0.85       149\n",
      "\n",
      "    accuracy                           1.00     93987\n",
      "   macro avg       0.98      0.88      0.93     93987\n",
      "weighted avg       1.00      1.00      1.00     93987\n",
      "\n"
     ]
    }
   ],
   "source": [
    "y_pred=classifier.predict(X_test)\n",
    "print(confusion_matrix(y_test,y_pred))\n",
    "print(accuracy_score(y_test,y_pred))\n",
    "print(classification_report(y_test,y_pred))"
   ]
  },
  {
   "cell_type": "markdown",
   "id": "ab814976",
   "metadata": {},
   "source": [
    "### AUC-ROC CURVE"
   ]
  },
  {
   "cell_type": "code",
   "execution_count": 36,
   "id": "edb783f1",
   "metadata": {},
   "outputs": [
    {
     "data": {
      "image/png": "[encoded data removed]",
      "text/plain": [
       "<Figure size 864x576 with 1 Axes>"
      ]
     },
     "metadata": {},
     "output_type": "display_data"
    }
   ],
   "source": [
    "from sklearn.metrics import roc_curve\n",
    "from sklearn.metrics import roc_auc_score\n",
    "fpr, tpr, _ = roc_curve(y_test,y_pred) \n",
    "auc = roc_auc_score(y_test,y_pred) \n",
    "plt.figure(figsize=(12,8)) \n",
    "plt.plot(fpr,tpr,label=\"Validation AUC-ROC=\"+str(auc)) \n",
    "x = np.linspace(0, 1, 1000)\n",
    "plt.plot(x, x, linestyle='-')\n",
    "plt.xlabel('False Positive Rate') \n",
    "plt.ylabel('True Positive Rate') \n",
    "plt.legend(loc=4) \n",
    "plt.show()"
   ]
  },
  {
   "cell_type": "markdown",
   "id": "7e910ab4",
   "metadata": {},
   "source": [
    "### Under Sampling"
   ]
  },
  {
   "cell_type": "code",
   "execution_count": 37,
   "id": "d750a0b6",
   "metadata": {},
   "outputs": [
    {
     "data": {
      "text/plain": [
       "Counter({0: 190477, 1: 343})"
      ]
     },
     "execution_count": 37,
     "metadata": {},
     "output_type": "execute_result"
    }
   ],
   "source": [
    "from collections import Counter\n",
    "Counter(y_train)"
   ]
  },
  {
   "cell_type": "code",
   "execution_count": 38,
   "id": "4a328ace",
   "metadata": {},
   "outputs": [
    {
     "name": "stdout",
     "output_type": "stream",
     "text": [
      "The number of classes before fit Counter({0: 190477, 1: 343})\n",
      "The number of classes after fit Counter({0: 343, 1: 343})\n"
     ]
    }
   ],
   "source": [
    "# converting 0's and 1's into 343 count\n",
    "from imblearn.under_sampling import RandomUnderSampler  \n",
    "under_sampler = RandomUnderSampler()\n",
    "X_train_ns,y_train_ns=under_sampler.fit_resample(X_train,y_train)\n",
    "print(\"The number of classes before fit {}\".format(Counter(y_train)))\n",
    "print(\"The number of classes after fit {}\".format(Counter(y_train_ns)))"
   ]
  },
  {
   "cell_type": "code",
   "execution_count": 39,
   "id": "50f4d549",
   "metadata": {},
   "outputs": [
    {
     "data": {
      "text/plain": [
       "RandomForestClassifier()"
      ]
     },
     "execution_count": 39,
     "metadata": {},
     "output_type": "execute_result"
    }
   ],
   "source": [
    "# Random Classifier Model\n",
    "from sklearn.ensemble import RandomForestClassifier\n",
    "classifier=RandomForestClassifier()\n",
    "classifier.fit(X_train_ns,y_train_ns)"
   ]
  },
  {
   "cell_type": "code",
   "execution_count": 40,
   "id": "1022e700",
   "metadata": {},
   "outputs": [
    {
     "name": "stdout",
     "output_type": "stream",
     "text": [
      "[[91011  2827]\n",
      " [   12   137]]\n",
      "0.9697936948726952\n",
      "              precision    recall  f1-score   support\n",
      "\n",
      "           0       1.00      0.97      0.98     93838\n",
      "           1       0.05      0.92      0.09       149\n",
      "\n",
      "    accuracy                           0.97     93987\n",
      "   macro avg       0.52      0.94      0.54     93987\n",
      "weighted avg       1.00      0.97      0.98     93987\n",
      "\n"
     ]
    }
   ],
   "source": [
    "# Confusion Matrix\n",
    "y_pred=classifier.predict(X_test)\n",
    "print(confusion_matrix(y_test,y_pred))\n",
    "print(accuracy_score(y_test,y_pred))\n",
    "print(classification_report(y_test,y_pred))"
   ]
  },
  {
   "cell_type": "code",
   "execution_count": 41,
   "id": "52d23106",
   "metadata": {},
   "outputs": [
    {
     "data": {
      "image/png": "[encoded data removed]",
      "text/plain": [
       "<Figure size 864x576 with 1 Axes>"
      ]
     },
     "metadata": {},
     "output_type": "display_data"
    }
   ],
   "source": [
    "# AUC-ROC curve\n",
    "from sklearn.metrics import roc_curve\n",
    "from sklearn.metrics import roc_auc_score\n",
    "fpr, tpr, _ = roc_curve(y_test,y_pred) \n",
    "auc = roc_auc_score(y_test,y_pred) \n",
    "plt.figure(figsize=(12,8)) \n",
    "plt.plot(fpr,tpr,label=\"Validation AUC-ROC=\"+str(auc)) \n",
    "x = np.linspace(0, 1, 1000)\n",
    "plt.plot(x, x, linestyle='-')\n",
    "plt.xlabel('False Positive Rate') \n",
    "plt.ylabel('True Positive Rate') \n",
    "plt.legend(loc=4) \n",
    "plt.show()"
   ]
  },
  {
   "cell_type": "markdown",
   "id": "9161ece1",
   "metadata": {},
   "source": [
    "### Over Sampling"
   ]
  },
  {
   "cell_type": "code",
   "execution_count": 42,
   "id": "00ceed26",
   "metadata": {},
   "outputs": [],
   "source": [
    "from imblearn.over_sampling import RandomOverSampler"
   ]
  },
  {
   "cell_type": "code",
   "execution_count": 43,
   "id": "71f8af73",
   "metadata": {},
   "outputs": [
    {
     "name": "stdout",
     "output_type": "stream",
     "text": [
      "The number of classes before fit Counter({0: 190477, 1: 343})\n",
      "The number of classes after fit Counter({0: 190477, 1: 142857})\n"
     ]
    }
   ],
   "source": [
    "# converting into oversampling\n",
    "os=RandomOverSampler(0.75)\n",
    "X_train_ns,y_train_ns=os.fit_resample(X_train,y_train)\n",
    "print(\"The number of classes before fit {}\".format(Counter(y_train)))\n",
    "print(\"The number of classes after fit {}\".format(Counter(y_train_ns)))"
   ]
  },
  {
   "cell_type": "code",
   "execution_count": 44,
   "id": "90c0ba9d",
   "metadata": {},
   "outputs": [
    {
     "data": {
      "text/plain": [
       "RandomForestClassifier()"
      ]
     },
     "execution_count": 44,
     "metadata": {},
     "output_type": "execute_result"
    }
   ],
   "source": [
    "# Random Forest classifier\n",
    "from sklearn.ensemble import RandomForestClassifier\n",
    "classifier=RandomForestClassifier()\n",
    "classifier.fit(X_train_ns,y_train_ns)"
   ]
  },
  {
   "cell_type": "code",
   "execution_count": 45,
   "id": "87b8b8eb",
   "metadata": {},
   "outputs": [
    {
     "name": "stdout",
     "output_type": "stream",
     "text": [
      "[[93833     5]\n",
      " [   29   120]]\n",
      "0.9996382478427868\n",
      "              precision    recall  f1-score   support\n",
      "\n",
      "           0       1.00      1.00      1.00     93838\n",
      "           1       0.96      0.81      0.88       149\n",
      "\n",
      "    accuracy                           1.00     93987\n",
      "   macro avg       0.98      0.90      0.94     93987\n",
      "weighted avg       1.00      1.00      1.00     93987\n",
      "\n"
     ]
    }
   ],
   "source": [
    "# confusion matrix\n",
    "y_pred=classifier.predict(X_test)\n",
    "print(confusion_matrix(y_test,y_pred))\n",
    "print(accuracy_score(y_test,y_pred))\n",
    "print(classification_report(y_test,y_pred))"
   ]
  },
  {
   "cell_type": "code",
   "execution_count": 46,
   "id": "69574193",
   "metadata": {},
   "outputs": [
    {
     "data": {
      "image/png": "[encoded data removed]",
      "text/plain": [
       "<Figure size 864x576 with 1 Axes>"
      ]
     },
     "metadata": {},
     "output_type": "display_data"
    }
   ],
   "source": [
    "# AUC-ROC Curve\n",
    "from sklearn.metrics import roc_curve\n",
    "from sklearn.metrics import roc_auc_score\n",
    "fpr, tpr, _ = roc_curve(y_test,y_pred) \n",
    "auc = roc_auc_score(y_test,y_pred) \n",
    "plt.figure(figsize=(12,8)) \n",
    "plt.plot(fpr,tpr,label=\"Validation AUC-ROC=\"+str(auc)) \n",
    "x = np.linspace(0, 1, 1000)\n",
    "plt.plot(x, x, linestyle='-')\n",
    "plt.xlabel('False Positive Rate') \n",
    "plt.ylabel('True Positive Rate') \n",
    "plt.legend(loc=4) \n",
    "plt.show()"
   ]
  },
  {
   "cell_type": "markdown",
   "id": "b5180787",
   "metadata": {},
   "source": [
    "### Ensemble Techniques"
   ]
  },
  {
   "cell_type": "code",
   "execution_count": 47,
   "id": "94d5f632",
   "metadata": {},
   "outputs": [],
   "source": [
    "from imblearn.ensemble import EasyEnsembleClassifier"
   ]
  },
  {
   "cell_type": "code",
   "execution_count": 48,
   "id": "1c6df22f",
   "metadata": {},
   "outputs": [
    {
     "data": {
      "text/plain": [
       "EasyEnsembleClassifier()"
      ]
     },
     "execution_count": 48,
     "metadata": {},
     "output_type": "execute_result"
    }
   ],
   "source": [
    "# EasyEnsembleClassifier\n",
    "easy=EasyEnsembleClassifier()\n",
    "easy.fit(X_train,y_train)"
   ]
  },
  {
   "cell_type": "code",
   "execution_count": 49,
   "id": "0b842d93",
   "metadata": {},
   "outputs": [
    {
     "name": "stdout",
     "output_type": "stream",
     "text": [
      "[[90320  3518]\n",
      " [   10   139]]\n",
      "0.9624628938044624\n",
      "              precision    recall  f1-score   support\n",
      "\n",
      "           0       1.00      0.96      0.98     93838\n",
      "           1       0.04      0.93      0.07       149\n",
      "\n",
      "    accuracy                           0.96     93987\n",
      "   macro avg       0.52      0.95      0.53     93987\n",
      "weighted avg       1.00      0.96      0.98     93987\n",
      "\n"
     ]
    }
   ],
   "source": [
    "#confusion matrix\n",
    "y_pred=easy.predict(X_test)\n",
    "print(confusion_matrix(y_test,y_pred))\n",
    "print(accuracy_score(y_test,y_pred))\n",
    "print(classification_report(y_test,y_pred))"
   ]
  },
  {
   "cell_type": "code",
   "execution_count": 50,
   "id": "b2d6b137",
   "metadata": {},
   "outputs": [
    {
     "data": {
      "image/png": "[encoded data removed]",
      "text/plain": [
       "<Figure size 864x576 with 1 Axes>"
      ]
     },
     "metadata": {},
     "output_type": "display_data"
    }
   ],
   "source": [
    "# AUC-ROC Curve\n",
    "from sklearn.metrics import roc_curve\n",
    "from sklearn.metrics import roc_auc_score\n",
    "fpr, tpr, _ = roc_curve(y_test,y_pred) \n",
    "auc = roc_auc_score(y_test,y_pred) \n",
    "plt.figure(figsize=(12,8)) \n",
    "plt.plot(fpr,tpr,label=\"Validation AUC-ROC=\"+str(auc)) \n",
    "x = np.linspace(0, 1, 1000)\n",
    "plt.plot(x, x, linestyle='-')\n",
    "plt.xlabel('False Positive Rate') \n",
    "plt.ylabel('True Positive Rate') \n",
    "plt.legend(loc=4) \n",
    "plt.show()"
   ]
  },
  {
   "cell_type": "markdown",
   "id": "7c7c3562",
   "metadata": {},
   "source": [
    "### CONCLUSION"
   ]
  },
  {
   "cell_type": "markdown",
   "id": "32c0239b",
   "metadata": {},
   "source": [
    "- From the above machine learning algorithms \n",
    "- Hyperparameter tunning of Logistic Regression will gives only accuracy is 99% but we want precision since we want FalsePostive should be low means \n",
    "    precision high, precision is 87% and AUC-ROC curve area is 81.8%\n",
    "- For Increasing the 1's as 350 time and using the Random Forest Classifier will gives accuracy is 99%,precision is 97% and AUC-ROC curve area is 89%\n",
    "- Uder Sampling has very poor precision 4% so we no need to cosider this\n",
    "- Over Sampling has good precision 95%,accuracy is 99% and AUC-ROC area is 90%\n",
    "- EasyEnsembleTechnic has very poor precision 4%,accuracy is 99% and AUC-ROC area is 94%."
   ]
  },
  {
   "cell_type": "markdown",
   "id": "535a98f2",
   "metadata": {},
   "source": [
    "- from the above conclusions Over Sampling with Random Forest Classifier can bechoosed for the Machine Learning Algorithm for our credit card fraud detection"
   ]
  },
  {
   "cell_type": "code",
   "execution_count": null,
   "id": "9f26d50b",
   "metadata": {},
   "outputs": [],
   "source": []
  }
 ],
 "metadata": {
  "kernelspec": {
   "display_name": "Python 3 (ipykernel)",
   "language": "python",
   "name": "python3"
  },
  "language_info": {
   "codemirror_mode": {
    "name": "ipython",
    "version": 3
   },
   "file_extension": ".py",
   "mimetype": "text/x-python",
   "name": "python",
   "nbconvert_exporter": "python",
   "pygments_lexer": "ipython3",
   "version": "3.7.11"
  }
 },
 "nbformat": 4,
 "nbformat_minor": 5
}
